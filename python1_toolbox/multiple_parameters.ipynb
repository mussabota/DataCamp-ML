{
 "cells": [
  {
   "cell_type": "code",
   "execution_count": 10,
   "metadata": {},
   "outputs": [
    {
     "name": "stdout",
     "output_type": "stream",
     "text": [
      "32\n"
     ]
    }
   ],
   "source": [
    "###  Multiple parameters and return values\n",
    "\n",
    "def raise_to_power(value1, value2):\n",
    "    \"\"\" Raise value1 to the power of value2 \"\"\"\n",
    "    new_value = value1**value2\n",
    "    return new_value\n",
    "result = raise_to_power(2,5)\n",
    "print(result)\n"
   ]
  },
  {
   "cell_type": "code",
   "execution_count": 13,
   "metadata": {},
   "outputs": [
    {
     "name": "stdout",
     "output_type": "stream",
     "text": [
      "(2, 4, 6)\n",
      "<class 'tuple'>\n"
     ]
    }
   ],
   "source": [
    "###### A quick jump into tuples\n",
    "\n",
    "#● Make functions return multiple values: Tuples!\n",
    "#● Tuples:\n",
    "#● Like a list - can contain multiple values\n",
    "#● Immutable - can’t modify values!\n",
    "#● Constructed using parentheses ()\n",
    "\n",
    "even_nums = (2,4,6)\n",
    "print(even_nums)\n",
    "print(type(even_nums))"
   ]
  },
  {
   "cell_type": "code",
   "execution_count": 16,
   "metadata": {},
   "outputs": [
    {
     "name": "stdout",
     "output_type": "stream",
     "text": [
      "2\n",
      "4\n"
     ]
    }
   ],
   "source": [
    "###  Unpacking tuples\n",
    "even_nums=(2,4,6)\n",
    "a,b,c = even_nums\n",
    "print(a)\n",
    "print(b)"
   ]
  },
  {
   "cell_type": "code",
   "execution_count": 19,
   "metadata": {},
   "outputs": [
    {
     "name": "stdout",
     "output_type": "stream",
     "text": [
      "4\n",
      "2\n",
      "4\n"
     ]
    }
   ],
   "source": [
    "####    Accessing tuple elements : ● Access tuple elements like you do with lists:\n",
    "\n",
    "even_nums=(2,4,6)\n",
    "print(even_nums[1])\n",
    "print(even_nums[0])\n",
    "\n",
    "second_num = even_nums[1]\n",
    "print(second_num)\n",
    "\n"
   ]
  },
  {
   "cell_type": "code",
   "execution_count": 28,
   "metadata": {},
   "outputs": [
    {
     "name": "stdout",
     "output_type": "stream",
     "text": [
      "(8, 9)\n"
     ]
    }
   ],
   "source": [
    "###  Returning multiple values\n",
    "\n",
    "def raise_both(value1, value2):\n",
    "    \"\"\"Raise value1 to the power of value2\n",
    "and vice versa.\"\"\"\n",
    "    new_value1 = value1**value2\n",
    "    new_value2 = value2**value1\n",
    "    \n",
    "    new_tuple = (new_value1, new_value2)\n",
    "    \n",
    "    return new_tuple\n",
    "\n",
    "result = raise_both(2,3)\n",
    "print(result)\n"
   ]
  },
  {
   "cell_type": "code",
   "execution_count": 30,
   "metadata": {},
   "outputs": [
    {
     "name": "stdout",
     "output_type": "stream",
     "text": [
      "(' congratulations !!!', ' you!!!')\n"
     ]
    }
   ],
   "source": [
    "#### Exercises\n",
    "\n",
    "def shout(word1, word2):\n",
    "    shout1 = word1 + '!!!'\n",
    "    shout2 = word2 + '!!!'\n",
    "    \n",
    "    new_shout = (shout1, shout2)\n",
    "    \n",
    "    return new_shout\n",
    "yell = shout(' congratulations ', ' you')\n",
    "print(yell)"
   ]
  },
  {
   "cell_type": "code",
   "execution_count": 46,
   "metadata": {},
   "outputs": [
    {
     "data": {
      "text/plain": [
       "1"
      ]
     },
     "execution_count": 46,
     "metadata": {},
     "output_type": "execute_result"
    }
   ],
   "source": [
    "num = (1, 2, 3) \n",
    "num\n",
    "even_num = num[0]\n",
    "even_num"
   ]
  },
  {
   "cell_type": "code",
   "execution_count": null,
   "metadata": {},
   "outputs": [],
   "source": []
  }
 ],
 "metadata": {
  "kernelspec": {
   "display_name": "Python 3",
   "language": "python",
   "name": "python3"
  },
  "language_info": {
   "codemirror_mode": {
    "name": "ipython",
    "version": 3
   },
   "file_extension": ".py",
   "mimetype": "text/x-python",
   "name": "python",
   "nbconvert_exporter": "python",
   "pygments_lexer": "ipython3",
   "version": "3.6.8"
  }
 },
 "nbformat": 4,
 "nbformat_minor": 2
}

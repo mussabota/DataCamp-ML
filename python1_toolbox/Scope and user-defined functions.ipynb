{
 "cells": [
  {
   "cell_type": "code",
   "execution_count": 3,
   "metadata": {},
   "outputs": [
    {
     "ename": "NameError",
     "evalue": "name 'new_value' is not defined",
     "output_type": "error",
     "traceback": [
      "\u001b[1;31m---------------------------------------------------------------------------\u001b[0m",
      "\u001b[1;31mNameError\u001b[0m                                 Traceback (most recent call last)",
      "\u001b[1;32m<ipython-input-3-63de422b383a>\u001b[0m in \u001b[0;36m<module>\u001b[1;34m\u001b[0m\n\u001b[0;32m     11\u001b[0m     \u001b[1;32mreturn\u001b[0m \u001b[0mnew_value\u001b[0m\u001b[1;33m\u001b[0m\u001b[1;33m\u001b[0m\u001b[0m\n\u001b[0;32m     12\u001b[0m \u001b[0msquare\u001b[0m\u001b[1;33m(\u001b[0m\u001b[1;36m3\u001b[0m\u001b[1;33m)\u001b[0m\u001b[1;33m\u001b[0m\u001b[1;33m\u001b[0m\u001b[0m\n\u001b[1;32m---> 13\u001b[1;33m \u001b[0mnew_value\u001b[0m\u001b[1;33m\u001b[0m\u001b[1;33m\u001b[0m\u001b[0m\n\u001b[0m",
      "\u001b[1;31mNameError\u001b[0m: name 'new_value' is not defined"
     ]
    }
   ],
   "source": [
    "####    Scope and user-defined functions\n",
    "\n",
    "# Scope - part of the program where an object or name may be accessible\n",
    "#● Global scope - defined in the main body of a script\n",
    "#● Local scope - defined inside a function\n",
    "#● Built-in scope - names in the pre-defined built-ins module\n",
    "\n",
    "def square(value):\n",
    "    \"\"\"Return the square of a number\"\"\"\n",
    "    new_value = value**2\n",
    "    return new_value\n",
    "square(3)\n",
    "new_value"
   ]
  },
  {
   "cell_type": "code",
   "execution_count": 4,
   "metadata": {},
   "outputs": [
    {
     "data": {
      "text/plain": [
       "10"
      ]
     },
     "execution_count": 4,
     "metadata": {},
     "output_type": "execute_result"
    }
   ],
   "source": [
    "new_value = 10\n",
    "\n",
    "def square(value):\n",
    "    \"\"\"Return the square of a number\"\"\"\n",
    "    new_value = value**2\n",
    "    return new_value\n",
    "square(3)\n",
    "new_value\n"
   ]
  },
  {
   "cell_type": "code",
   "execution_count": 10,
   "metadata": {},
   "outputs": [
    {
     "data": {
      "text/plain": [
       "100"
      ]
     },
     "execution_count": 10,
     "metadata": {},
     "output_type": "execute_result"
    }
   ],
   "source": [
    "new_value = 10\n",
    "\n",
    "def square(value):\n",
    "    \"\"\"Return the square of a number\"\"\"\n",
    "    new_value2 = new_value**2\n",
    "    return new_value2\n",
    "square(30)\n",
    "#new_value\n"
   ]
  },
  {
   "cell_type": "code",
   "execution_count": 12,
   "metadata": {},
   "outputs": [
    {
     "data": {
      "text/plain": [
       "400"
      ]
     },
     "execution_count": 12,
     "metadata": {},
     "output_type": "execute_result"
    }
   ],
   "source": [
    "new_value = 20\n",
    "square(5)"
   ]
  },
  {
   "cell_type": "code",
   "execution_count": 16,
   "metadata": {},
   "outputs": [
    {
     "data": {
      "text/plain": [
       "100"
      ]
     },
     "execution_count": 16,
     "metadata": {},
     "output_type": "execute_result"
    }
   ],
   "source": [
    "new_value = 10\n",
    "\n",
    "def square(value):\n",
    "    \"\"\"Return the square of a number\"\"\"\n",
    "    global new_value\n",
    "    new_value = new_value**2\n",
    "\n",
    "    return new_value\n",
    "square(30)\n",
    "new_value"
   ]
  },
  {
   "cell_type": "code",
   "execution_count": 21,
   "metadata": {},
   "outputs": [
    {
     "name": "stdout",
     "output_type": "stream",
     "text": [
      "justice legal\n"
     ]
    }
   ],
   "source": [
    "team = \"teen titans\"\n",
    "\n",
    "def change_team():\n",
    "    \"\"\"Change the value of the global variable team.\"\"\"\n",
    "    global team\n",
    "    \n",
    "    team = 'justice legal'\n",
    "    return team\n",
    "change_team()\n",
    "print(team)"
   ]
  },
  {
   "cell_type": "code",
   "execution_count": null,
   "metadata": {},
   "outputs": [],
   "source": []
  },
  {
   "cell_type": "code",
   "execution_count": 17,
   "metadata": {},
   "outputs": [
    {
     "name": "stdout",
     "output_type": "stream",
     "text": [
      "(6, 5, 6)\n"
     ]
    }
   ],
   "source": [
    "###  Nested functions (1)\n",
    "\n",
    "def mod2plus5(x1,x2,x3):\n",
    "    \"\"\"Returns the remainder plus 5 of three values.\"\"\"\n",
    "    def inner(x):\n",
    "        \"\"\"Returns the remainder plus 5 of a value.\"\"\"\n",
    "        return x%2 + 5\n",
    "    \n",
    "    return (inner(x1), inner(x2), inner(x3))\n",
    "\n",
    "print(mod2plus5(1,2,3))"
   ]
  },
  {
   "cell_type": "code",
   "execution_count": 22,
   "metadata": {},
   "outputs": [
    {
     "name": "stdout",
     "output_type": "stream",
     "text": [
      "(5, 8, 11)\n"
     ]
    }
   ],
   "source": [
    "def sum(a,b,c):\n",
    "    \n",
    "    def inner(d):\n",
    "        return (d*3)+2\n",
    "    return (inner(a),inner(b), inner(c))\n",
    "print(sum(1,2,3))\n",
    "        \n",
    "         \n",
    "        \n"
   ]
  },
  {
   "cell_type": "code",
   "execution_count": 40,
   "metadata": {},
   "outputs": [
    {
     "name": "stdout",
     "output_type": "stream",
     "text": [
      "8 64\n"
     ]
    }
   ],
   "source": [
    "####  Returning functions\n",
    "\n",
    "def raise_val(n):\n",
    "    \"\"\"Raise  the inner function\"\"\"\n",
    "    def inner(x):\n",
    "        \"\"\" Raise x to the power of n\"\"\"\n",
    "        raised = x**n\n",
    "        return raised\n",
    "    \n",
    "    return inner\n",
    "square = raise_val(3)\n",
    "cube = raise_val(3)\n",
    "print(square(2),cube(4))"
   ]
  },
  {
   "cell_type": "code",
   "execution_count": 30,
   "metadata": {},
   "outputs": [
    {
     "name": "stdout",
     "output_type": "stream",
     "text": [
      "2\n",
      "2\n"
     ]
    }
   ],
   "source": [
    "#### Using nonlocal\n",
    "\n",
    "def outer():\n",
    "    \"\"\"Print the value of n \"\"\"\n",
    "    n=1\n",
    "    \n",
    "    def inner():\n",
    "        nonlocal n\n",
    "        n=2\n",
    "        print(n)\n",
    "        \n",
    "    inner()\n",
    "    print(n)\n",
    "    \n",
    "outer()"
   ]
  },
  {
   "cell_type": "code",
   "execution_count": 58,
   "metadata": {},
   "outputs": [
    {
     "ename": "IndentationError",
     "evalue": "unindent does not match any outer indentation level (<tokenize>, line 4)",
     "output_type": "error",
     "traceback": [
      "\u001b[1;36m  File \u001b[1;32m\"<tokenize>\"\u001b[1;36m, line \u001b[1;32m4\u001b[0m\n\u001b[1;33m    echo_word = word*2\u001b[0m\n\u001b[1;37m    ^\u001b[0m\n\u001b[1;31mIndentationError\u001b[0m\u001b[1;31m:\u001b[0m unindent does not match any outer indentation level\n"
     ]
    }
   ],
   "source": [
    "def echo_shout(word):\n",
    "      \"\"\"Change the value of a nonlocal variable\"\"\"\n",
    "    \n",
    "    echo_word = word*2\n",
    "    print(echo_word)\n",
    "        \n",
    "    def shout():\n",
    "         \"\"\"Alter a variable in the enclosing scope\"\"\"  \n",
    "        nonlocal echo_word\n",
    "        echo_word = echo_word + '!!!'\n",
    "        \n",
    "    shout()\n",
    "    print(echo_word)\n",
    "        \n",
    "echo_shout('me')            \n",
    "                                "
   ]
  },
  {
   "cell_type": "code",
   "execution_count": 45,
   "metadata": {},
   "outputs": [
    {
     "name": "stdout",
     "output_type": "stream",
     "text": [
      "('a!!!', 'b!!!', 'me!!!')\n"
     ]
    }
   ],
   "source": [
    "### exercises\n",
    "\n",
    "def three_shouts(word1, word2,word3):\n",
    "    \"\"\"Returns a tuple of strings\n",
    "    concatenated with '!!!'\"\"\"\n",
    "    \n",
    "    def inner(word):\n",
    "        \"\"\"Returns a string concatenated with '!!!'.\"\"\"\n",
    "        return word +\"!!!\"\n",
    "    return (inner(word1) , inner(word2) ,inner(word3))\n",
    "print(three_shouts('a','b','me'))"
   ]
  },
  {
   "cell_type": "code",
   "execution_count": 46,
   "metadata": {},
   "outputs": [
    {
     "name": "stdout",
     "output_type": "stream",
     "text": [
      "hihi mememe\n"
     ]
    }
   ],
   "source": [
    "def echo(n):\n",
    "    \"\"\"Return the inner_echo function.\"\"\"\n",
    "    \n",
    "    def inner(word1):\n",
    "        \"\"\"Concatenate n copies of word1.\"\"\"\n",
    "        echo_word = word1*n\n",
    "        return echo_word\n",
    "    return inner\n",
    "twice = echo(2)\n",
    "thrice = echo(3)\n",
    "print(twice('hi'), thrice('me'))"
   ]
  },
  {
   "cell_type": "code",
   "execution_count": 65,
   "metadata": {},
   "outputs": [
    {
     "data": {
      "text/plain": [
       "729"
      ]
     },
     "execution_count": 65,
     "metadata": {},
     "output_type": "execute_result"
    }
   ],
   "source": [
    "#### Default and flexible arguments\n",
    "\n",
    "## 1  Add a default argument\n",
    "\n",
    "def power(number, pow=1 ):\n",
    "    \"\"\"Raise number to the power of pow.\"\"\"\n",
    "    new_value  = number**pow\n",
    "    return new_value\n",
    "power(9,3)\n",
    "\n"
   ]
  },
  {
   "cell_type": "code",
   "execution_count": 73,
   "metadata": {},
   "outputs": [
    {
     "data": {
      "text/plain": [
       "3"
      ]
     },
     "execution_count": 73,
     "metadata": {},
     "output_type": "execute_result"
    }
   ],
   "source": [
    "###  Flexible arguments: *args (1)\n",
    "\n",
    "def add_all(*args):\n",
    "    \"\"\"Sum all values in *args together.\"\"\"\n",
    "    sum_all = 0\n",
    "    \n",
    "    for num in args:\n",
    "        sum_all = sum_all+num\n",
    "        \n",
    "    return sum_all\n",
    "add_all(1,2)\n",
    "        "
   ]
  },
  {
   "cell_type": "code",
   "execution_count": 83,
   "metadata": {},
   "outputs": [
    {
     "ename": "TypeError",
     "evalue": "'name' is an invalid keyword argument for this function",
     "output_type": "error",
     "traceback": [
      "\u001b[1;31m---------------------------------------------------------------------------\u001b[0m",
      "\u001b[1;31mTypeError\u001b[0m                                 Traceback (most recent call last)",
      "\u001b[1;32m<ipython-input-83-6517bc52c288>\u001b[0m in \u001b[0;36m<module>\u001b[1;34m\u001b[0m\n\u001b[0;32m      1\u001b[0m \u001b[1;31m####  Flexible arguments: **kwargs\u001b[0m\u001b[1;33m\u001b[0m\u001b[1;33m\u001b[0m\u001b[1;33m\u001b[0m\u001b[0m\n\u001b[0;32m      2\u001b[0m \u001b[1;33m\u001b[0m\u001b[0m\n\u001b[1;32m----> 3\u001b[1;33m \u001b[0mprint\u001b[0m\u001b[1;33m(\u001b[0m\u001b[0mname\u001b[0m\u001b[1;33m=\u001b[0m\u001b[1;34m\"Hugo Bowne-Anderson\"\u001b[0m\u001b[1;33m,\u001b[0m \u001b[0memployer\u001b[0m\u001b[1;33m=\u001b[0m\u001b[1;34m\"DataCamp\"\u001b[0m\u001b[1;33m)\u001b[0m\u001b[1;33m\u001b[0m\u001b[1;33m\u001b[0m\u001b[0m\n\u001b[0m",
      "\u001b[1;31mTypeError\u001b[0m: 'name' is an invalid keyword argument for this function"
     ]
    }
   ],
   "source": [
    "####  Flexible arguments: **kwargs\n",
    "\n",
    "print(name=\"Hugo Bowne-Anderson\", employer=\"DataCamp\")\n"
   ]
  },
  {
   "cell_type": "code",
   "execution_count": 90,
   "metadata": {},
   "outputs": [
    {
     "name": "stdout",
     "output_type": "stream",
     "text": [
      "name:dumbledore\n",
      "job:headmaster\n"
     ]
    }
   ],
   "source": [
    "def print_all(**kwargs):\n",
    "    \"\"\"Print out key-value pairs in **kwargs.\"\"\"\n",
    "    \n",
    "    for key, value in kwargs.items():\n",
    "        print(key + ':' + value)\n",
    "        \n",
    "print_all(name=\"dumbledore\", job=\"headmaster\")"
   ]
  },
  {
   "cell_type": "code",
   "execution_count": 94,
   "metadata": {},
   "outputs": [
    {
     "name": "stdout",
     "output_type": "stream",
     "text": [
      "luke\n",
      "a sulbob\n"
     ]
    }
   ],
   "source": [
    "def gibberish(*args):\n",
    "    hodgepodhe = ''\n",
    "    \n",
    "    for word in args:\n",
    "        hodgepodhe+= word\n",
    "    return hodgepodhe\n",
    "one = gibberish('luke')\n",
    "many = gibberish('a ', 'sul', 'bob')\n",
    "\n",
    "print(one)\n",
    "print(many)"
   ]
  },
  {
   "cell_type": "code",
   "execution_count": 103,
   "metadata": {},
   "outputs": [
    {
     "name": "stdout",
     "output_type": "stream",
     "text": [
      "\n",
      "BEGIN: END\n",
      "\n"
     ]
    }
   ],
   "source": [
    "def report_status(**kwargs):\n",
    "    print(\"\\nBEGIN: END\\n\")\n",
    "report_status()"
   ]
  },
  {
   "cell_type": "code",
   "execution_count": 105,
   "metadata": {},
   "outputs": [
    {
     "name": "stdout",
     "output_type": "stream",
     "text": [
      "\n",
      "BEGIN: END\n",
      "\n",
      "name:Bota\n",
      "affilation: cool\n",
      "status: milliarder\n",
      "\n",
      "END REPORT\n",
      "\n"
     ]
    }
   ],
   "source": [
    "def report_status(**kwargs):\n",
    "    \n",
    "    print(\"\\nBEGIN: END\\n\")\n",
    "    \n",
    "    for key, value in kwargs.items():\n",
    "        print(key + ':' + value)\n",
    "        \n",
    "    print(\"\\nEND REPORT\\n\")  \n",
    "    \n",
    "report_status(name = 'Bota', affilation = ' cool', status = ' milliarder')"
   ]
  }
 ],
 "metadata": {
  "kernelspec": {
   "display_name": "Python 3",
   "language": "python",
   "name": "python3"
  },
  "language_info": {
   "codemirror_mode": {
    "name": "ipython",
    "version": 3
   },
   "file_extension": ".py",
   "mimetype": "text/x-python",
   "name": "python",
   "nbconvert_exporter": "python",
   "pygments_lexer": "ipython3",
   "version": "3.6.8"
  }
 },
 "nbformat": 4,
 "nbformat_minor": 2
}

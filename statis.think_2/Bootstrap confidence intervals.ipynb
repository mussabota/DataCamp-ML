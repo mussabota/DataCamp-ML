{
 "cells": [
  {
   "cell_type": "markdown",
   "metadata": {},
   "source": [
    "# Generating bootstrap replicates\n"
   ]
  },
  {
   "cell_type": "code",
   "execution_count": 139,
   "metadata": {},
   "outputs": [],
   "source": [
    "import pandas as pd\n",
    "import numpy as np\n",
    "import matplotlib.pyplot as plt \n",
    "import seaborn as sns"
   ]
  },
  {
   "cell_type": "code",
   "execution_count": 140,
   "metadata": {},
   "outputs": [
    {
     "data": {
      "text/html": [
       "<div>\n",
       "<style scoped>\n",
       "    .dataframe tbody tr th:only-of-type {\n",
       "        vertical-align: middle;\n",
       "    }\n",
       "\n",
       "    .dataframe tbody tr th {\n",
       "        vertical-align: top;\n",
       "    }\n",
       "\n",
       "    .dataframe thead th {\n",
       "        text-align: right;\n",
       "    }\n",
       "</style>\n",
       "<table border=\"1\" class=\"dataframe\">\n",
       "  <thead>\n",
       "    <tr style=\"text-align: right;\">\n",
       "      <th></th>\n",
       "      <th>date</th>\n",
       "      <th>distinctness of image</th>\n",
       "      <th>temperature (F)</th>\n",
       "      <th>position of deflected image</th>\n",
       "      <th>position of slit</th>\n",
       "      <th>displacement of image in divisions</th>\n",
       "      <th>difference between greatest and least</th>\n",
       "      <th>B</th>\n",
       "      <th>Cor</th>\n",
       "      <th>revolutions per second</th>\n",
       "      <th>radius (ft)</th>\n",
       "      <th>value of one turn of screw</th>\n",
       "      <th>velocity of light in air (km/s)</th>\n",
       "      <th>remarks</th>\n",
       "    </tr>\n",
       "  </thead>\n",
       "  <tbody>\n",
       "    <tr>\n",
       "      <th>0</th>\n",
       "      <td>June  5</td>\n",
       "      <td>3</td>\n",
       "      <td>76</td>\n",
       "      <td>114.85</td>\n",
       "      <td>0.300</td>\n",
       "      <td>114.55</td>\n",
       "      <td>0.17</td>\n",
       "      <td>1.423</td>\n",
       "      <td>-0.132</td>\n",
       "      <td>257.36</td>\n",
       "      <td>28.672</td>\n",
       "      <td>0.99614</td>\n",
       "      <td>299850</td>\n",
       "      <td>Electric light.</td>\n",
       "    </tr>\n",
       "    <tr>\n",
       "      <th>1</th>\n",
       "      <td>June  7</td>\n",
       "      <td>2</td>\n",
       "      <td>72</td>\n",
       "      <td>114.64</td>\n",
       "      <td>0.074</td>\n",
       "      <td>114.56</td>\n",
       "      <td>0.10</td>\n",
       "      <td>1.533</td>\n",
       "      <td>-0.084</td>\n",
       "      <td>257.52</td>\n",
       "      <td>28.655</td>\n",
       "      <td>0.99614</td>\n",
       "      <td>299740</td>\n",
       "      <td>P.M. Frame inclined at various angles</td>\n",
       "    </tr>\n",
       "    <tr>\n",
       "      <th>2</th>\n",
       "      <td>June  7</td>\n",
       "      <td>2</td>\n",
       "      <td>72</td>\n",
       "      <td>114.58</td>\n",
       "      <td>0.074</td>\n",
       "      <td>114.50</td>\n",
       "      <td>0.08</td>\n",
       "      <td>1.533</td>\n",
       "      <td>-0.084</td>\n",
       "      <td>257.52</td>\n",
       "      <td>28.647</td>\n",
       "      <td>0.99614</td>\n",
       "      <td>299900</td>\n",
       "      <td>P.M. Frame inclined at various angles</td>\n",
       "    </tr>\n",
       "    <tr>\n",
       "      <th>3</th>\n",
       "      <td>June  7</td>\n",
       "      <td>2</td>\n",
       "      <td>72</td>\n",
       "      <td>85.91</td>\n",
       "      <td>0.074</td>\n",
       "      <td>85.84</td>\n",
       "      <td>0.12</td>\n",
       "      <td>1.533</td>\n",
       "      <td>-0.084</td>\n",
       "      <td>193.14</td>\n",
       "      <td>28.647</td>\n",
       "      <td>0.99598</td>\n",
       "      <td>300070</td>\n",
       "      <td>P.M. Frame inclined at various angles</td>\n",
       "    </tr>\n",
       "    <tr>\n",
       "      <th>4</th>\n",
       "      <td>June  7</td>\n",
       "      <td>2</td>\n",
       "      <td>72</td>\n",
       "      <td>85.97</td>\n",
       "      <td>0.074</td>\n",
       "      <td>85.89</td>\n",
       "      <td>O.07</td>\n",
       "      <td>1.533</td>\n",
       "      <td>-0.084</td>\n",
       "      <td>193.14</td>\n",
       "      <td>28.650</td>\n",
       "      <td>0.99598</td>\n",
       "      <td>299930</td>\n",
       "      <td>P.M. Frame inclined at various angles</td>\n",
       "    </tr>\n",
       "  </tbody>\n",
       "</table>\n",
       "</div>"
      ],
      "text/plain": [
       "         date  distinctness of image  temperature (F)  \\\n",
       "0     June  5                      3               76   \n",
       "1     June  7                      2               72   \n",
       "2     June  7                      2               72   \n",
       "3     June  7                      2               72   \n",
       "4     June  7                      2               72   \n",
       "\n",
       "   position of deflected image  position of slit  \\\n",
       "0                       114.85             0.300   \n",
       "1                       114.64             0.074   \n",
       "2                       114.58             0.074   \n",
       "3                        85.91             0.074   \n",
       "4                        85.97             0.074   \n",
       "\n",
       "  displacement of image in divisions difference between greatest and least  \\\n",
       "0                             114.55                                  0.17   \n",
       "1                             114.56                                  0.10   \n",
       "2                             114.50                                  0.08   \n",
       "3                              85.84                                  0.12   \n",
       "4                              85.89                                  O.07   \n",
       "\n",
       "       B    Cor revolutions per second  radius (ft)  \\\n",
       "0  1.423 -0.132                 257.36       28.672   \n",
       "1  1.533 -0.084                 257.52       28.655   \n",
       "2  1.533 -0.084                 257.52       28.647   \n",
       "3  1.533 -0.084                 193.14       28.647   \n",
       "4  1.533 -0.084                 193.14       28.650   \n",
       "\n",
       "   value of one turn of screw  velocity of light in air (km/s)  \\\n",
       "0                     0.99614                           299850   \n",
       "1                     0.99614                           299740   \n",
       "2                     0.99614                           299900   \n",
       "3                     0.99598                           300070   \n",
       "4                     0.99598                           299930   \n",
       "\n",
       "                                 remarks  \n",
       "0                        Electric light.  \n",
       "1  P.M. Frame inclined at various angles  \n",
       "2  P.M. Frame inclined at various angles  \n",
       "3  P.M. Frame inclined at various angles  \n",
       "4  P.M. Frame inclined at various angles  "
      ]
     },
     "execution_count": 140,
     "metadata": {},
     "output_type": "execute_result"
    }
   ],
   "source": [
    "df = pd.read_csv('michelson_speed_of_light.csv', index_col=0)\n",
    "df.head()"
   ]
  },
  {
   "cell_type": "code",
   "execution_count": 141,
   "metadata": {},
   "outputs": [
    {
     "data": {
      "text/plain": [
       "array([299850, 299740, 299900, 300070, 299930, 299850, 299950, 299980,\n",
       "       299980, 299880, 300000, 299980, 299930, 299650, 299760, 299810,\n",
       "       300000, 300000, 299960, 299960, 299960, 299940, 299960, 299940,\n",
       "       299880, 299800, 299850, 299880, 299900, 299840, 299830, 299790,\n",
       "       299810, 299880, 299880, 299830, 299800, 299790, 299760, 299800,\n",
       "       299880, 299880, 299880, 299860, 299720, 299720, 299620, 299860,\n",
       "       299970, 299950, 299880, 299910, 299850, 299870, 299840, 299840,\n",
       "       299850, 299840, 299840, 299840, 299890, 299810, 299810, 299820,\n",
       "       299800, 299770, 299760, 299740, 299750, 299760, 299910, 299920,\n",
       "       299890, 299860, 299880, 299720, 299840, 299850, 299850, 299780,\n",
       "       299890, 299840, 299780, 299810, 299760, 299810, 299790, 299810,\n",
       "       299820, 299850, 299870, 299870, 299810, 299740, 299810, 299940,\n",
       "       299950, 299800, 299810, 299870], dtype=int64)"
      ]
     },
     "execution_count": 141,
     "metadata": {},
     "output_type": "execute_result"
    }
   ],
   "source": [
    "speed_array= np.array(df['velocity of light in air (km/s)'])\n",
    "speed_array"
   ]
  },
  {
   "cell_type": "markdown",
   "metadata": {},
   "source": [
    "# Resamplin an array"
   ]
  },
  {
   "cell_type": "code",
   "execution_count": 142,
   "metadata": {},
   "outputs": [],
   "source": [
    "## Bootstap sample = A resampled array of the data"
   ]
  },
  {
   "cell_type": "code",
   "execution_count": 7,
   "metadata": {},
   "outputs": [],
   "source": [
    "## Bootstrap replicate = A statistic computed from a resampled array"
   ]
  },
  {
   "cell_type": "code",
   "execution_count": 143,
   "metadata": {},
   "outputs": [
    {
     "data": {
      "text/plain": [
       "array([0, 1, 2, 3, 4, 5, 6, 7, 8, 9])"
      ]
     },
     "execution_count": 143,
     "metadata": {},
     "output_type": "execute_result"
    }
   ],
   "source": [
    "a =np.arange(10)\n",
    "a"
   ]
  },
  {
   "cell_type": "code",
   "execution_count": 144,
   "metadata": {},
   "outputs": [
    {
     "data": {
      "text/plain": [
       "(array([10., 11., 12., 13., 14., 15., 16., 17., 18., 19., 20.]), 1.0)"
      ]
     },
     "execution_count": 144,
     "metadata": {},
     "output_type": "execute_result"
    }
   ],
   "source": [
    "np.linspace(10,20,11,endpoint=True, retstep=True)"
   ]
  },
  {
   "cell_type": "code",
   "execution_count": 145,
   "metadata": {},
   "outputs": [
    {
     "data": {
      "text/plain": [
       "array([ 0. ,  2.5,  5. ,  7.5, 10. ])"
      ]
     },
     "execution_count": 145,
     "metadata": {},
     "output_type": "execute_result"
    }
   ],
   "source": [
    "b = np.linspace(0,len(a), 5)\n",
    "b"
   ]
  },
  {
   "cell_type": "markdown",
   "metadata": {},
   "source": [
    "# resampling engine : np.random.choice()"
   ]
  },
  {
   "cell_type": "code",
   "execution_count": 146,
   "metadata": {},
   "outputs": [
    {
     "data": {
      "text/plain": [
       "array([2, 4, 3, 4, 1])"
      ]
     },
     "execution_count": 146,
     "metadata": {},
     "output_type": "execute_result"
    }
   ],
   "source": [
    "np.random.choice([1,2,3,4,5 ], size =5)"
   ]
  },
  {
   "cell_type": "markdown",
   "metadata": {},
   "source": [
    "# Computing a bootstrap replicate "
   ]
  },
  {
   "cell_type": "code",
   "execution_count": 147,
   "metadata": {},
   "outputs": [
    {
     "data": {
      "text/plain": [
       "array([299750, 299910, 299810, 299970, 299760, 299850, 299840, 299880,\n",
       "       299950, 299800, 299930, 300000, 299900, 300000, 299850, 299940,\n",
       "       299800, 299650, 299880, 299810, 299840, 299980, 299790, 299830,\n",
       "       299900, 299940, 299980, 299840, 299850, 299890, 299970, 299920,\n",
       "       299760, 299850, 299980, 299720, 299810, 299740, 299890, 299920,\n",
       "       299890, 299820, 299790, 299960, 299830, 299720, 299750, 299880,\n",
       "       299960, 300000, 299980, 299810, 299790, 299880, 299850, 299830,\n",
       "       299810, 299880, 300000, 300000, 299780, 299880, 299950, 299980,\n",
       "       299810, 299920, 299950, 299870, 299810, 299790, 299740, 299800,\n",
       "       299980, 299880, 299870, 299800, 299840, 299960, 299870, 300000,\n",
       "       299810, 299800, 299950, 299940, 299880, 299780, 299780, 299870,\n",
       "       299810, 299850, 299620, 299830, 299850, 299880, 299760, 299880,\n",
       "       299800, 299910, 299880, 299810], dtype=int64)"
      ]
     },
     "execution_count": 147,
     "metadata": {},
     "output_type": "execute_result"
    }
   ],
   "source": [
    "bs_sample = np.random.choice(speed_array, size=100)       #### bootstrap sample\n",
    "bs_sample"
   ]
  },
  {
   "cell_type": "code",
   "execution_count": 148,
   "metadata": {},
   "outputs": [],
   "source": [
    "## 2 ) compute b. replicate"
   ]
  },
  {
   "cell_type": "code",
   "execution_count": 149,
   "metadata": {},
   "outputs": [
    {
     "data": {
      "text/plain": [
       "299862.8"
      ]
     },
     "execution_count": 149,
     "metadata": {},
     "output_type": "execute_result"
    }
   ],
   "source": [
    "np.mean(bs_sample)"
   ]
  },
  {
   "cell_type": "code",
   "execution_count": 43,
   "metadata": {},
   "outputs": [
    {
     "data": {
      "text/plain": [
       "299845.0"
      ]
     },
     "execution_count": 43,
     "metadata": {},
     "output_type": "execute_result"
    }
   ],
   "source": [
    "np.median(bs_sample)"
   ]
  },
  {
   "cell_type": "code",
   "execution_count": 150,
   "metadata": {},
   "outputs": [
    {
     "data": {
      "text/plain": [
       "81.06885961946179"
      ]
     },
     "execution_count": 150,
     "metadata": {},
     "output_type": "execute_result"
    }
   ],
   "source": [
    "np.std(bs_sample)"
   ]
  },
  {
   "cell_type": "code",
   "execution_count": 151,
   "metadata": {},
   "outputs": [],
   "source": [
    "data = np.array([-1,0,1])"
   ]
  },
  {
   "cell_type": "code",
   "execution_count": 152,
   "metadata": {},
   "outputs": [
    {
     "data": {
      "text/plain": [
       "array([ 0, -1,  0])"
      ]
     },
     "execution_count": 152,
     "metadata": {},
     "output_type": "execute_result"
    }
   ],
   "source": [
    "sample =np.random.choice(data, size =3)\n",
    "sample"
   ]
  },
  {
   "cell_type": "markdown",
   "metadata": {},
   "source": [
    "# Visualizing bootstrap samples"
   ]
  },
  {
   "cell_type": "code",
   "execution_count": 153,
   "metadata": {},
   "outputs": [],
   "source": [
    "rainfall = np.array([ 875.5,  648.2,  788.1,  940.3,  491.1,  743.5,  730.1,  686.5,\n",
    "        878.8,  865.6,  654.9,  831.5,  798.1,  681.8,  743.8,  689.1,\n",
    "        752.1,  837.2,  710.6,  749.2,  967.1,  701.2,  619. ,  747.6,\n",
    "        803.4,  645.6,  804.1,  787.4,  646.8,  997.1,  774. ,  734.5,\n",
    "        835. ,  840.7,  659.6,  828.3,  909.7,  856.9,  578.3,  904.2,\n",
    "        883.9,  740.1,  773.9,  741.4,  866.8,  871.1,  712.5,  919.2,\n",
    "        927.9,  809.4,  633.8,  626.8,  871.3,  774.3,  898.8,  789.6,\n",
    "        936.3,  765.4,  882.1,  681.1,  661.3,  847.9,  683.9,  985.7,\n",
    "        771.1,  736.6,  713.2,  774.5,  937.7,  694.5,  598.2,  983.8,\n",
    "        700.2,  901.3,  733.5,  964.4,  609.3, 1035.2,  718. ,  688.6,\n",
    "        736.8,  643.3, 1038.5,  969. ,  802.7,  876.6,  944.7,  786.6,\n",
    "        770.4,  808.6,  761.3,  774.2,  559.3,  674.2,  883.6,  823.9,\n",
    "        960.4,  877.8,  940.6,  831.8,  906.2,  866.5,  674.1,  998.1,\n",
    "        789.3,  915. ,  737.1,  763. ,  666.7,  824.5,  913.8,  905.1,\n",
    "        667.8,  747.4,  784.7,  925.4,  880.2, 1086.9,  764.4, 1050.1,\n",
    "        595.2,  855.2,  726.9,  785.2,  948.8,  970.6,  896. ,  618.4,\n",
    "        572.4, 1146.4,  728.2,  864.2,  793. ])"
   ]
  },
  {
   "cell_type": "code",
   "execution_count": 84,
   "metadata": {},
   "outputs": [
    {
     "data": {
      "text/plain": [
       "array([ 875.5,  648.2,  788.1,  940.3,  491.1,  743.5,  730.1,  686.5,\n",
       "        878.8,  865.6,  654.9,  831.5,  798.1,  681.8,  743.8,  689.1,\n",
       "        752.1,  837.2,  710.6,  749.2,  967.1,  701.2,  619. ,  747.6,\n",
       "        803.4,  645.6,  804.1,  787.4,  646.8,  997.1,  774. ,  734.5,\n",
       "        835. ,  840.7,  659.6,  828.3,  909.7,  856.9,  578.3,  904.2,\n",
       "        883.9,  740.1,  773.9,  741.4,  866.8,  871.1,  712.5,  919.2,\n",
       "        927.9,  809.4,  633.8,  626.8,  871.3,  774.3,  898.8,  789.6,\n",
       "        936.3,  765.4,  882.1,  681.1,  661.3,  847.9,  683.9,  985.7,\n",
       "        771.1,  736.6,  713.2,  774.5,  937.7,  694.5,  598.2,  983.8,\n",
       "        700.2,  901.3,  733.5,  964.4,  609.3, 1035.2,  718. ,  688.6,\n",
       "        736.8,  643.3, 1038.5,  969. ,  802.7,  876.6,  944.7,  786.6,\n",
       "        770.4,  808.6,  761.3,  774.2,  559.3,  674.2,  883.6,  823.9,\n",
       "        960.4,  877.8,  940.6,  831.8,  906.2,  866.5,  674.1,  998.1,\n",
       "        789.3,  915. ,  737.1,  763. ,  666.7,  824.5,  913.8,  905.1,\n",
       "        667.8,  747.4,  784.7,  925.4,  880.2, 1086.9,  764.4, 1050.1,\n",
       "        595.2,  855.2,  726.9,  785.2,  948.8,  970.6,  896. ,  618.4,\n",
       "        572.4, 1146.4,  728.2,  864.2,  793. ])"
      ]
     },
     "execution_count": 84,
     "metadata": {},
     "output_type": "execute_result"
    }
   ],
   "source": [
    "rainfall"
   ]
  },
  {
   "cell_type": "code",
   "execution_count": 154,
   "metadata": {},
   "outputs": [
    {
     "data": {
      "text/plain": [
       "133"
      ]
     },
     "execution_count": 154,
     "metadata": {},
     "output_type": "execute_result"
    }
   ],
   "source": [
    "len(rainfall)"
   ]
  },
  {
   "cell_type": "code",
   "execution_count": 155,
   "metadata": {},
   "outputs": [
    {
     "data": {
      "text/plain": [
       "array([ 681.8,  784.7,  865.6,  643.3,  906.2,  645.6,  710.6,  940.6,\n",
       "        740.1,  787.4, 1050.1,  694.5,  774.3,  728.2,  661.3,  913.8,\n",
       "        789.3,  736.8,  747.4,  736.6,  905.1,  785.2, 1038.5,  936.3,\n",
       "        659.6,  925.4,  970.6,  648.2,  855.2,  808.6,  659.6,  925.4,\n",
       "        960.4,  831.5,  803.4,  937.7,  491.1,  619. ,  896. ,  864.2,\n",
       "        998.1,  765.4,  734.5,  598.2,  831.5,  741.4,  726.9,  646.8,\n",
       "        896. ,  730.1,  710.6,  969. ,  728.2,  718. ,  559.3,  618.4,\n",
       "        661.3,  774.5,  875.5,  824.5,  948.8,  619. ,  764.4,  743.8,\n",
       "        866.8,  809.4,  774.2,  883.9,  674.2,  998.1,  878.8,  837.2,\n",
       "        785.2,  915. ,  763. ,  936.3,  763. ,  964.4,  666.7,  667.8,\n",
       "        905.1,  960.4,  823.9,  763. ,  964.4,  730.1,  925.4,  831.5,\n",
       "        683.9,  940.3,  643.3,  998.1,  882.1,  659.6,  940.3,  701.2,\n",
       "        701.2,  734.5,  674.2,  948.8,  828.3,  718. ,  964.4,  752.1,\n",
       "        936.3,  736.8,  774. ,  740.1,  736.8,  773.9,  898.8,  909.7,\n",
       "        937.7,  736.8,  804.1,  749.2,  925.4,  871.1,  865.6,  808.6,\n",
       "        773.9,  666.7,  681.1,  674.1,  878.8,  866.8,  855.2,  626.8,\n",
       "        837.2,  737.1,  784.7,  804.1,  898.8])"
      ]
     },
     "execution_count": 155,
     "metadata": {},
     "output_type": "execute_result"
    }
   ],
   "source": [
    "### Creating bootstrap sample\n",
    "\n",
    "bs_sample1 = np.random.choice(rainfall, size =len(rainfall))\n",
    "bs_sample1"
   ]
  },
  {
   "cell_type": "code",
   "execution_count": 156,
   "metadata": {},
   "outputs": [],
   "source": [
    "# create ecdf: Use the function ecdf()  to generate the x and y values for the ECDF of the bootstrap sample bs_sample.\n",
    "def ecdf(bs):\n",
    "    x = np.sort(bs)\n",
    "    y= np.arange(1,len(x)+1)/len(x)\n",
    "    return x,y"
   ]
  },
  {
   "cell_type": "code",
   "execution_count": 157,
   "metadata": {},
   "outputs": [
    {
     "data": {
      "image/png": "[encoded data removed]",
      "text/plain": [
       "<Figure size 432x288 with 1 Axes>"
      ]
     },
     "metadata": {
      "needs_background": "light"
     },
     "output_type": "display_data"
    }
   ],
   "source": [
    "##  Write a for loop to acquire 50 bootstrap samples of the rainfall data and plot their ECDF.\n",
    "\n",
    "for _ in range(50):\n",
    "    bs_sample1 = np.random.choice(rainfall, size =len(rainfall))\n",
    "       \n",
    "        # Compute and plot ECDF from bootstrap sample\n",
    "    x, y = ecdf(bs_sample1)\n",
    "    _ = plt.plot(x, y, marker='.', linestyle='none',\n",
    "                 color='gray', alpha=0.1)"
   ]
  },
  {
   "cell_type": "code",
   "execution_count": 158,
   "metadata": {},
   "outputs": [
    {
     "data": {
      "image/png": "[encoded data removed]",
      "text/plain": [
       "<Figure size 432x288 with 1 Axes>"
      ]
     },
     "metadata": {
      "needs_background": "light"
     },
     "output_type": "display_data"
    }
   ],
   "source": [
    "# Compute and plot ECDF from original data\n",
    "x, y = ecdf(rainfall)\n",
    "_ = plt.plot(x, y, marker='.')\n",
    "\n",
    "# Make margins and label axes\n",
    "plt.margins(0.02)\n",
    "_ = plt.xlabel('yearly rainfall (mm)')\n",
    "_ = plt.ylabel('ECDF')\n",
    "\n",
    "# Show the plot\n",
    "plt.show()"
   ]
  },
  {
   "cell_type": "code",
   "execution_count": 159,
   "metadata": {},
   "outputs": [
    {
     "data": {
      "image/png": "[encoded data removed]",
      "text/plain": [
       "<Figure size 432x288 with 1 Axes>"
      ]
     },
     "metadata": {
      "needs_background": "light"
     },
     "output_type": "display_data"
    }
   ],
   "source": [
    "for _ in range(50):\n",
    "    # Generate bootstrap sample: bs_sample\n",
    "    bs_sample = np.random.choice(rainfall, size=len(rainfall))\n",
    "\n",
    "    # Compute and plot ECDF from bootstrap sample\n",
    "    x, y = ecdf(bs_sample)\n",
    "    _ = plt.plot(x, y, marker='.', linestyle='none',\n",
    "                 color='gray', alpha=0.1)\n",
    "\n",
    "# Compute and plot ECDF from original data\n",
    "x, y = ecdf(rainfall)\n",
    "_ = plt.plot(x, y, marker='.')\n",
    "\n",
    "# Make margins and label axes\n",
    "plt.margins(0.02)\n",
    "_ = plt.xlabel('yearly rainfall (mm)')\n",
    "_ = plt.ylabel('ECDF')\n",
    "\n",
    "# Show the plot\n",
    "plt.show()"
   ]
  },
  {
   "cell_type": "markdown",
   "metadata": {},
   "source": [
    "# Bootstrap confidence intervals\n"
   ]
  },
  {
   "cell_type": "code",
   "execution_count": 160,
   "metadata": {},
   "outputs": [],
   "source": [
    "## Bootstrap replicate function\n",
    "\n",
    "def bootstrap_replicate_1d(data, func):\n",
    "    \"\"\"Generate bootstrap replicate of 1D data\"\"\"\n",
    "    bs_sample = np.random.choice(data, len(data))\n",
    "    return func(bs_sample)"
   ]
  },
  {
   "cell_type": "code",
   "execution_count": 122,
   "metadata": {},
   "outputs": [
    {
     "data": {
      "text/plain": [
       "299846.9"
      ]
     },
     "execution_count": 122,
     "metadata": {},
     "output_type": "execute_result"
    }
   ],
   "source": [
    "bootstrap_replicate_1d(speed_array,np.mean)"
   ]
  },
  {
   "cell_type": "markdown",
   "metadata": {},
   "source": [
    "# Many bootstrap replicates"
   ]
  },
  {
   "cell_type": "code",
   "execution_count": 125,
   "metadata": {},
   "outputs": [
    {
     "data": {
      "text/plain": [
       "array([6., 4.])"
      ]
     },
     "execution_count": 125,
     "metadata": {},
     "output_type": "execute_result"
    }
   ],
   "source": [
    "np.empty(2)"
   ]
  },
  {
   "cell_type": "code",
   "execution_count": 130,
   "metadata": {},
   "outputs": [
    {
     "data": {
      "text/plain": [
       "array([2.93760296e-312, 2.93814753e-312, 7.29111856e-304, ...,\n",
       "       0.00000000e+000, 0.00000000e+000, 0.00000000e+000])"
      ]
     },
     "execution_count": 130,
     "metadata": {},
     "output_type": "execute_result"
    }
   ],
   "source": [
    "bs_replicate = np.empty(10000)\n",
    "bs_replicate"
   ]
  },
  {
   "cell_type": "code",
   "execution_count": 132,
   "metadata": {},
   "outputs": [
    {
     "data": {
      "text/plain": [
       "array([299844.8, 299858.6, 299844.9, ..., 299839.3, 299852.6, 299856.1])"
      ]
     },
     "execution_count": 132,
     "metadata": {},
     "output_type": "execute_result"
    }
   ],
   "source": [
    "bs_replicate = np.empty(10000)\n",
    "\n",
    "for i in range(10000):\n",
    "    bs_replicate[i]= bootstrap_replicate_1d(speed_array, np.mean)\n",
    "bs_replicate    "
   ]
  },
  {
   "cell_type": "code",
   "execution_count": 135,
   "metadata": {},
   "outputs": [
    {
     "name": "stderr",
     "output_type": "stream",
     "text": [
      "C:\\Users\\Bota\\Miniconda3\\lib\\site-packages\\matplotlib\\axes\\_axes.py:6521: MatplotlibDeprecationWarning: \n",
      "The 'normed' kwarg was deprecated in Matplotlib 2.1 and will be removed in 3.1. Use 'density' instead.\n",
      "  alternative=\"'density'\", removal=\"3.1\")\n"
     ]
    },
    {
     "data": {
      "image/png": "[encoded data removed]",
      "text/plain": [
       "<Figure size 432x288 with 1 Axes>"
      ]
     },
     "metadata": {
      "needs_background": "light"
     },
     "output_type": "display_data"
    }
   ],
   "source": [
    "_ = plt.hist(bs_replicate,bins=30, normed=True, edgecolor = 'black')\n",
    "\n",
    "_=plt.xlabel(' mean speed of light')\n",
    "_=plt.ylabel('PDF')\n",
    "plt.show()"
   ]
  },
  {
   "cell_type": "markdown",
   "metadata": {},
   "source": [
    "# Bootstrap confidence interval "
   ]
  },
  {
   "cell_type": "code",
   "execution_count": 138,
   "metadata": {},
   "outputs": [
    {
     "data": {
      "text/plain": [
       "array([299837.2, 299867.4])"
      ]
     },
     "execution_count": 138,
     "metadata": {},
     "output_type": "execute_result"
    }
   ],
   "source": [
    "conf_int = np.percentile(bs_replicate,[2.5, 97.5])\n",
    "conf_int"
   ]
  },
  {
   "cell_type": "markdown",
   "metadata": {},
   "source": [
    "# Generating many bootstrap replicates"
   ]
  },
  {
   "cell_type": "code",
   "execution_count": 162,
   "metadata": {},
   "outputs": [],
   "source": [
    "## Bootstrap replicate function\n",
    "\n",
    "def bootstrap_replicate_1d(data, func):\n",
    "    \"\"\"Generate bootstrap replicate of 1D data\"\"\"\n",
    "    bs_sample = np.random.choice(data, len(data))\n",
    "    return func(bs_sample)"
   ]
  },
  {
   "cell_type": "code",
   "execution_count": null,
   "metadata": {},
   "outputs": [],
   "source": [
    "def draw_bs_reps(data, function,size=1):\n",
    "    \n",
    "    bs_replicates = np.empty(size)\n",
    "    \n",
    "    for i in range (size):\n",
    "        bs_replicates[i]= draw_bs_reps()"
   ]
  },
  {
   "cell_type": "code",
   "execution_count": 177,
   "metadata": {},
   "outputs": [
    {
     "data": {
      "text/plain": [
       "array([0.01 , 0.02 , 0.025, 0.05 , 0.1  , 0.2  , 0.25 , 0.5  , 1.   ,\n",
       "       2.   ])"
      ]
     },
     "execution_count": 177,
     "metadata": {},
     "output_type": "execute_result"
    }
   ],
   "source": [
    "np.empty(10)"
   ]
  },
  {
   "cell_type": "code",
   "execution_count": 178,
   "metadata": {},
   "outputs": [],
   "source": [
    "def draw_bs_reps(data, func, size=1):\n",
    "    \"\"\"Draw bootstrap replicates.\"\"\"\n",
    "\n",
    "    # Initialize array of replicates: bs_replicates\n",
    "    bs_replicates = np.empty(size)\n",
    "\n",
    "    # Generate replicates\n",
    "    for i in range (size):\n",
    "        bs_replicates[i] = bootstrap_replicate_1d(data,func)\n",
    "\n",
    "    return bs_replicates\n"
   ]
  },
  {
   "cell_type": "markdown",
   "metadata": {},
   "source": [
    "# Bootstrap replicates of the mean and the SEM\n",
    "\n",
    "#### The standard deviation of this distribution, called the standard error of the mean, or SEM\n",
    "#### sem = np.std(data) / np.sqrt(len(data))"
   ]
  },
  {
   "cell_type": "code",
   "execution_count": 179,
   "metadata": {},
   "outputs": [
    {
     "data": {
      "text/plain": [
       "array([ 875.5,  648.2,  788.1,  940.3,  491.1,  743.5,  730.1,  686.5,\n",
       "        878.8,  865.6,  654.9,  831.5,  798.1,  681.8,  743.8,  689.1,\n",
       "        752.1,  837.2,  710.6,  749.2,  967.1,  701.2,  619. ,  747.6,\n",
       "        803.4,  645.6,  804.1,  787.4,  646.8,  997.1,  774. ,  734.5,\n",
       "        835. ,  840.7,  659.6,  828.3,  909.7,  856.9,  578.3,  904.2,\n",
       "        883.9,  740.1,  773.9,  741.4,  866.8,  871.1,  712.5,  919.2,\n",
       "        927.9,  809.4,  633.8,  626.8,  871.3,  774.3,  898.8,  789.6,\n",
       "        936.3,  765.4,  882.1,  681.1,  661.3,  847.9,  683.9,  985.7,\n",
       "        771.1,  736.6,  713.2,  774.5,  937.7,  694.5,  598.2,  983.8,\n",
       "        700.2,  901.3,  733.5,  964.4,  609.3, 1035.2,  718. ,  688.6,\n",
       "        736.8,  643.3, 1038.5,  969. ,  802.7,  876.6,  944.7,  786.6,\n",
       "        770.4,  808.6,  761.3,  774.2,  559.3,  674.2,  883.6,  823.9,\n",
       "        960.4,  877.8,  940.6,  831.8,  906.2,  866.5,  674.1,  998.1,\n",
       "        789.3,  915. ,  737.1,  763. ,  666.7,  824.5,  913.8,  905.1,\n",
       "        667.8,  747.4,  784.7,  925.4,  880.2, 1086.9,  764.4, 1050.1,\n",
       "        595.2,  855.2,  726.9,  785.2,  948.8,  970.6,  896. ,  618.4,\n",
       "        572.4, 1146.4,  728.2,  864.2,  793. ])"
      ]
     },
     "execution_count": 179,
     "metadata": {},
     "output_type": "execute_result"
    }
   ],
   "source": [
    "rainfall"
   ]
  },
  {
   "cell_type": "code",
   "execution_count": 180,
   "metadata": {
    "scrolled": true
   },
   "outputs": [
    {
     "name": "stdout",
     "output_type": "stream",
     "text": [
      "10.510549150506188\n",
      "10.494755846260945\n"
     ]
    },
    {
     "name": "stderr",
     "output_type": "stream",
     "text": [
      "C:\\Users\\Bota\\Miniconda3\\lib\\site-packages\\matplotlib\\axes\\_axes.py:6521: MatplotlibDeprecationWarning: \n",
      "The 'normed' kwarg was deprecated in Matplotlib 2.1 and will be removed in 3.1. Use 'density' instead.\n",
      "  alternative=\"'density'\", removal=\"3.1\")\n"
     ]
    },
    {
     "data": {
      "image/png": "[encoded data removed]",
      "text/plain": [
       "<Figure size 432x288 with 1 Axes>"
      ]
     },
     "metadata": {
      "needs_background": "light"
     },
     "output_type": "display_data"
    }
   ],
   "source": [
    "# Take 10,000 bootstrap replicates of the mean: bs_replicates\n",
    "bs_replicates = draw_bs_reps(rainfall, np.mean,10000)\n",
    "\n",
    "# Compute and print SEM\n",
    "sem = np.std(rainfall) / np.sqrt(len(rainfall))\n",
    "print(sem)\n",
    "\n",
    "# Compute and print standard deviation of bootstrap replicates\n",
    "bs_std = np.std(bs_replicates)\n",
    "print(bs_std)\n",
    "\n",
    "# Make a histogram of the results\n",
    "_ = plt.hist(bs_replicates, bins=50, normed=True)\n",
    "_ = plt.xlabel('mean annual rainfall (mm)')\n",
    "_ = plt.ylabel('PDF')\n",
    "\n",
    "# Show the plot\n",
    "plt.show()"
   ]
  },
  {
   "cell_type": "markdown",
   "metadata": {},
   "source": [
    "# Confidence intervals of rainfall data"
   ]
  },
  {
   "cell_type": "code",
   "execution_count": 181,
   "metadata": {},
   "outputs": [
    {
     "data": {
      "text/plain": [
       "array([779.45261278, 820.80921053])"
      ]
     },
     "execution_count": 181,
     "metadata": {},
     "output_type": "execute_result"
    }
   ],
   "source": [
    "### to compute the 95% confidence interval\n",
    "np.percentile(bs_replicates,[2.5,97.5])"
   ]
  },
  {
   "cell_type": "markdown",
   "metadata": {},
   "source": [
    "# Bootstrap replicates of other statistics"
   ]
  },
  {
   "cell_type": "code",
   "execution_count": 182,
   "metadata": {},
   "outputs": [
    {
     "name": "stderr",
     "output_type": "stream",
     "text": [
      "C:\\Users\\Bota\\Miniconda3\\lib\\site-packages\\matplotlib\\axes\\_axes.py:6521: MatplotlibDeprecationWarning: \n",
      "The 'normed' kwarg was deprecated in Matplotlib 2.1 and will be removed in 3.1. Use 'density' instead.\n",
      "  alternative=\"'density'\", removal=\"3.1\")\n"
     ]
    },
    {
     "data": {
      "image/png": "[encoded data removed]",
      "text/plain": [
       "<Figure size 432x288 with 1 Axes>"
      ]
     },
     "metadata": {
      "needs_background": "light"
     },
     "output_type": "display_data"
    }
   ],
   "source": [
    "### generate bootstrap replicates for the variance of the annual rainfall \n",
    "\n",
    "bs_replicates = draw_bs_reps(rainfall, np.var,10000)\n",
    "\n",
    "# Put the variance in units of square centimeters\n",
    "(bs_replicates)/100\n",
    "\n",
    "# Make a histogram of the results\n",
    "_ = plt.hist(bs_replicates/100, bins=50, normed=True)\n",
    "_ = plt.xlabel('variance of annual rainfall (sq. cm)')\n",
    "_ = plt.ylabel('PDF')\n",
    "\n",
    "# Show the plot\n",
    "plt.show()\n"
   ]
  },
  {
   "cell_type": "markdown",
   "metadata": {},
   "source": [
    "#  This is not normally distributed, as it has a longer tail to the right"
   ]
  },
  {
   "cell_type": "code",
   "execution_count": null,
   "metadata": {},
   "outputs": [],
   "source": []
  },
  {
   "cell_type": "markdown",
   "metadata": {},
   "source": [
    "# Confidence interval on the rate of no-hitters"
   ]
  },
  {
   "cell_type": "code",
   "execution_count": 183,
   "metadata": {},
   "outputs": [],
   "source": [
    "nohitter_times= np.array([ 843, 1613, 1101,  215,  684,  814,  278,  324,  161,  219,  545,\n",
    "        715,  966,  624,   29,  450,  107,   20,   91, 1325,  124, 1468,\n",
    "        104, 1309,  429,   62, 1878, 1104,  123,  251,   93,  188,  983,\n",
    "        166,   96,  702,   23,  524,   26,  299,   59,   39,   12,    2,\n",
    "        308, 1114,  813,  887,  645, 2088,   42, 2090,   11,  886, 1665,\n",
    "       1084, 2900, 2432,  750, 4021, 1070, 1765, 1322,   26,  548, 1525,\n",
    "         77, 2181, 2752,  127, 2147,  211,   41, 1575,  151,  479,  697,\n",
    "        557, 2267,  542,  392,   73,  603,  233,  255,  528,  397, 1529,\n",
    "       1023, 1194,  462,  583,   37,  943,  996,  480, 1497,  717,  224,\n",
    "        219, 1531,  498,   44,  288,  267,  600,   52,  269, 1086,  386,\n",
    "        176, 2199,  216,   54,  675, 1243,  463,  650,  171,  327,  110,\n",
    "        774,  509,    8,  197,  136,   12, 1124,   64,  380,  811,  232,\n",
    "        192,  731,  715,  226,  605,  539, 1491,  323,  240,  179,  702,\n",
    "        156,   82, 1397,  354,  778,  603, 1001,  385,  986,  203,  149,\n",
    "        576,  445,  180, 1403,  252,  675, 1351, 2983, 1568,   45,  899,\n",
    "       3260, 1025,   31,  100, 2055, 4043,   79,  238, 3931, 2351,  595,\n",
    "        110,  215,    0,  563,  206,  660,  242,  577,  179,  157,  192,\n",
    "        192, 1848,  792, 1693,   55,  388,  225, 1134, 1172, 1555,   31,\n",
    "       1582, 1044,  378, 1687, 2915,  280,  765, 2819,  511, 1521,  745,\n",
    "       2491,  580, 2072, 6450,  578,  745, 1075, 1103, 1549, 1520,  138,\n",
    "       1202,  296,  277,  351,  391,  950,  459,   62, 1056, 1128,  139,\n",
    "        420,   87,   71,  814,  603, 1349,  162, 1027,  783,  326,  101,\n",
    "        876,  381,  905,  156,  419,  239,  119,  129,  467])"
   ]
  },
  {
   "cell_type": "code",
   "execution_count": 184,
   "metadata": {},
   "outputs": [
    {
     "name": "stdout",
     "output_type": "stream",
     "text": [
      "95% confidence interval = [663.02280876 870.6625498 ] games\n"
     ]
    },
    {
     "name": "stderr",
     "output_type": "stream",
     "text": [
      "C:\\Users\\Bota\\Miniconda3\\lib\\site-packages\\matplotlib\\axes\\_axes.py:6521: MatplotlibDeprecationWarning: \n",
      "The 'normed' kwarg was deprecated in Matplotlib 2.1 and will be removed in 3.1. Use 'density' instead.\n",
      "  alternative=\"'density'\", removal=\"3.1\")\n"
     ]
    },
    {
     "data": {
      "image/png": "[encoded data removed]",
      "text/plain": [
       "<Figure size 432x288 with 1 Axes>"
      ]
     },
     "metadata": {
      "needs_background": "light"
     },
     "output_type": "display_data"
    }
   ],
   "source": [
    "# Draw bootstrap replicates of the mean no-hitter time (equal to tau): bs_replicates\n",
    "bs_replicates = draw_bs_reps(nohitter_times,np.mean,10000)\n",
    "\n",
    "# Compute the 95% confidence interval: conf_int\n",
    "conf_int = np.percentile(bs_replicates,[2.5,97.5])\n",
    "\n",
    "# Print the confidence interval\n",
    "print('95% confidence interval =', conf_int, 'games')\n",
    "\n",
    "# Plot the histogram of the replicates\n",
    "_ = plt.hist(bs_replicates, bins=50, normed=True)\n",
    "_ = plt.xlabel(r'$\\tau$ (games)')\n",
    "_ = plt.ylabel('PDF')\n",
    "\n",
    "# Show the plot\n",
    "plt.show()\n"
   ]
  },
  {
   "cell_type": "markdown",
   "metadata": {},
   "source": [
    "# Pairs bootstrap for linear regression\n",
    "\n",
    "#### resampled data in pairs\n",
    "#### compute slope and intercept from resampled data\n",
    "#### each slope and intercept is a bootstrap replicate\n",
    "#### compute confidence intervals from percentiles of bootstrap replicates\n"
   ]
  },
  {
   "cell_type": "code",
   "execution_count": 191,
   "metadata": {},
   "outputs": [
    {
     "data": {
      "text/html": [
       "<div>\n",
       "<style scoped>\n",
       "    .dataframe tbody tr th:only-of-type {\n",
       "        vertical-align: middle;\n",
       "    }\n",
       "\n",
       "    .dataframe tbody tr th {\n",
       "        vertical-align: top;\n",
       "    }\n",
       "\n",
       "    .dataframe thead th {\n",
       "        text-align: right;\n",
       "    }\n",
       "</style>\n",
       "<table border=\"1\" class=\"dataframe\">\n",
       "  <thead>\n",
       "    <tr style=\"text-align: right;\">\n",
       "      <th></th>\n",
       "      <th>state</th>\n",
       "      <th>county</th>\n",
       "      <th>total_votes</th>\n",
       "      <th>dem_votes</th>\n",
       "      <th>rep_votes</th>\n",
       "      <th>dem_share</th>\n",
       "    </tr>\n",
       "  </thead>\n",
       "  <tbody>\n",
       "    <tr>\n",
       "      <th>0</th>\n",
       "      <td>PA</td>\n",
       "      <td>Erie County</td>\n",
       "      <td>127691</td>\n",
       "      <td>75775</td>\n",
       "      <td>50351</td>\n",
       "      <td>60.08</td>\n",
       "    </tr>\n",
       "    <tr>\n",
       "      <th>1</th>\n",
       "      <td>PA</td>\n",
       "      <td>Bradford County</td>\n",
       "      <td>25787</td>\n",
       "      <td>10306</td>\n",
       "      <td>15057</td>\n",
       "      <td>40.64</td>\n",
       "    </tr>\n",
       "    <tr>\n",
       "      <th>2</th>\n",
       "      <td>PA</td>\n",
       "      <td>Tioga County</td>\n",
       "      <td>17984</td>\n",
       "      <td>6390</td>\n",
       "      <td>11326</td>\n",
       "      <td>36.07</td>\n",
       "    </tr>\n",
       "    <tr>\n",
       "      <th>3</th>\n",
       "      <td>PA</td>\n",
       "      <td>McKean County</td>\n",
       "      <td>15947</td>\n",
       "      <td>6465</td>\n",
       "      <td>9224</td>\n",
       "      <td>41.21</td>\n",
       "    </tr>\n",
       "    <tr>\n",
       "      <th>4</th>\n",
       "      <td>PA</td>\n",
       "      <td>Potter County</td>\n",
       "      <td>7507</td>\n",
       "      <td>2300</td>\n",
       "      <td>5109</td>\n",
       "      <td>31.04</td>\n",
       "    </tr>\n",
       "  </tbody>\n",
       "</table>\n",
       "</div>"
      ],
      "text/plain": [
       "  state           county  total_votes  dem_votes  rep_votes  dem_share\n",
       "0    PA      Erie County       127691      75775      50351      60.08\n",
       "1    PA  Bradford County        25787      10306      15057      40.64\n",
       "2    PA     Tioga County        17984       6390      11326      36.07\n",
       "3    PA    McKean County        15947       6465       9224      41.21\n",
       "4    PA    Potter County         7507       2300       5109      31.04"
      ]
     },
     "execution_count": 191,
     "metadata": {},
     "output_type": "execute_result"
    }
   ],
   "source": [
    "df = pd.read_csv('2008_swing_states.csv')\n",
    "df.head()"
   ]
  },
  {
   "cell_type": "code",
   "execution_count": 193,
   "metadata": {},
   "outputs": [
    {
     "data": {
      "text/plain": [
       "array([0, 1, 2, 3, 4, 5, 6])"
      ]
     },
     "execution_count": 193,
     "metadata": {},
     "output_type": "execute_result"
    }
   ],
   "source": [
    "np.arange(7)"
   ]
  },
  {
   "cell_type": "code",
   "execution_count": 211,
   "metadata": {},
   "outputs": [
    {
     "data": {
      "text/html": [
       "<div>\n",
       "<style scoped>\n",
       "    .dataframe tbody tr th:only-of-type {\n",
       "        vertical-align: middle;\n",
       "    }\n",
       "\n",
       "    .dataframe tbody tr th {\n",
       "        vertical-align: top;\n",
       "    }\n",
       "\n",
       "    .dataframe thead th {\n",
       "        text-align: right;\n",
       "    }\n",
       "</style>\n",
       "<table border=\"1\" class=\"dataframe\">\n",
       "  <thead>\n",
       "    <tr style=\"text-align: right;\">\n",
       "      <th></th>\n",
       "      <th>state</th>\n",
       "      <th>county</th>\n",
       "      <th>total_votes</th>\n",
       "      <th>dem_votes</th>\n",
       "      <th>rep_votes</th>\n",
       "      <th>dem_share</th>\n",
       "    </tr>\n",
       "  </thead>\n",
       "  <tbody>\n",
       "    <tr>\n",
       "      <th>162</th>\n",
       "      <td>FL</td>\n",
       "      <td>Taylor County</td>\n",
       "      <td>9366</td>\n",
       "      <td>2803</td>\n",
       "      <td>6457</td>\n",
       "      <td>30.27</td>\n",
       "    </tr>\n",
       "  </tbody>\n",
       "</table>\n",
       "</div>"
      ],
      "text/plain": [
       "    state         county  total_votes  dem_votes  rep_votes  dem_share\n",
       "162    FL  Taylor County         9366       2803       6457      30.27"
      ]
     },
     "execution_count": 211,
     "metadata": {},
     "output_type": "execute_result"
    }
   ],
   "source": [
    "df[df['total_votes']==9366]"
   ]
  },
  {
   "cell_type": "markdown",
   "metadata": {},
   "source": [
    "# Generating a pairs bootstrap sample"
   ]
  },
  {
   "cell_type": "code",
   "execution_count": 198,
   "metadata": {},
   "outputs": [
    {
     "data": {
      "text/plain": [
       "222"
      ]
     },
     "execution_count": 198,
     "metadata": {},
     "output_type": "execute_result"
    }
   ],
   "source": [
    "total_votes =np.array(df['total_votes'])\n",
    "len(total_votes)"
   ]
  },
  {
   "cell_type": "code",
   "execution_count": 208,
   "metadata": {},
   "outputs": [
    {
     "data": {
      "text/plain": [
       "222"
      ]
     },
     "execution_count": 208,
     "metadata": {},
     "output_type": "execute_result"
    }
   ],
   "source": [
    "dem_share =np.array(df['dem_share'])\n",
    "len(dem_share)"
   ]
  },
  {
   "cell_type": "code",
   "execution_count": 209,
   "metadata": {},
   "outputs": [],
   "source": [
    "inds = np.arange(len(total_votes))\n",
    "\n",
    "bs_inds = np.random.choice(inds, len(inds))\n",
    "\n",
    "bs_total_votes = total_votes[bs_inds]\n",
    "bs_dem_share = dem_share[bs_inds]"
   ]
  },
  {
   "cell_type": "markdown",
   "metadata": {},
   "source": [
    "# find slope and intercept with np.polyfit()"
   ]
  },
  {
   "cell_type": "code",
   "execution_count": 224,
   "metadata": {},
   "outputs": [
    {
     "data": {
      "text/plain": [
       "(3.998762864724519e-05, 40.02044186762076)"
      ]
     },
     "execution_count": 224,
     "metadata": {},
     "output_type": "execute_result"
    }
   ],
   "source": [
    "bs_slope, bs_intercept = np.polyfit(bs_total_votes, bs_dem_share,1)\n",
    "\n",
    "bs_slope, bs_intercept"
   ]
  },
  {
   "cell_type": "code",
   "execution_count": 229,
   "metadata": {},
   "outputs": [
    {
     "data": {
      "text/plain": [
       "array([3.99876286e-05, 4.00204419e+01])"
      ]
     },
     "execution_count": 229,
     "metadata": {},
     "output_type": "execute_result"
    }
   ],
   "source": [
    "np.polyfit(bs_total_votes, bs_dem_share,1)"
   ]
  },
  {
   "cell_type": "code",
   "execution_count": 230,
   "metadata": {},
   "outputs": [
    {
     "data": {
      "text/plain": [
       "array([  0,   1,   2,   3,   4,   5,   6,   7,   8,   9,  10,  11,  12,\n",
       "        13,  14,  15,  16,  17,  18,  19,  20,  21,  22,  23,  24,  25,\n",
       "        26,  27,  28,  29,  30,  31,  32,  33,  34,  35,  36,  37,  38,\n",
       "        39,  40,  41,  42,  43,  44,  45,  46,  47,  48,  49,  50,  51,\n",
       "        52,  53,  54,  55,  56,  57,  58,  59,  60,  61,  62,  63,  64,\n",
       "        65,  66,  67,  68,  69,  70,  71,  72,  73,  74,  75,  76,  77,\n",
       "        78,  79,  80,  81,  82,  83,  84,  85,  86,  87,  88,  89,  90,\n",
       "        91,  92,  93,  94,  95,  96,  97,  98,  99, 100, 101, 102, 103,\n",
       "       104, 105, 106, 107, 108, 109, 110, 111, 112, 113, 114, 115, 116,\n",
       "       117, 118, 119, 120, 121, 122, 123, 124, 125, 126, 127, 128, 129,\n",
       "       130, 131, 132, 133, 134, 135, 136, 137, 138, 139, 140, 141, 142,\n",
       "       143, 144, 145, 146, 147, 148, 149, 150, 151, 152, 153, 154, 155,\n",
       "       156, 157, 158, 159, 160, 161, 162, 163, 164, 165, 166, 167, 168,\n",
       "       169, 170, 171, 172, 173, 174, 175, 176, 177, 178, 179, 180, 181,\n",
       "       182, 183, 184, 185, 186, 187, 188, 189, 190, 191, 192, 193, 194,\n",
       "       195, 196, 197, 198, 199, 200, 201, 202, 203, 204, 205, 206, 207,\n",
       "       208, 209, 210, 211, 212, 213, 214, 215, 216, 217, 218, 219, 220,\n",
       "       221])"
      ]
     },
     "execution_count": 230,
     "metadata": {},
     "output_type": "execute_result"
    }
   ],
   "source": [
    "inds"
   ]
  },
  {
   "cell_type": "code",
   "execution_count": 232,
   "metadata": {},
   "outputs": [
    {
     "data": {
      "text/plain": [
       "array([  0, 100])"
      ]
     },
     "execution_count": 232,
     "metadata": {},
     "output_type": "execute_result"
    }
   ],
   "source": [
    "x = np.array([0,100])\n",
    "x"
   ]
  },
  {
   "cell_type": "code",
   "execution_count": 233,
   "metadata": {},
   "outputs": [
    {
     "ename": "NameError",
     "evalue": "name 'bs_slope_reps' is not defined",
     "output_type": "error",
     "traceback": [
      "\u001b[1;31m---------------------------------------------------------------------------\u001b[0m",
      "\u001b[1;31mNameError\u001b[0m                                 Traceback (most recent call last)",
      "\u001b[1;32m<ipython-input-233-345724c8c80e>\u001b[0m in \u001b[0;36m<module>\u001b[1;34m\u001b[0m\n\u001b[0;32m      5\u001b[0m \u001b[1;32mfor\u001b[0m \u001b[0mi\u001b[0m \u001b[1;32min\u001b[0m \u001b[0mrange\u001b[0m\u001b[1;33m(\u001b[0m\u001b[1;36m100\u001b[0m\u001b[1;33m)\u001b[0m\u001b[1;33m:\u001b[0m\u001b[1;33m\u001b[0m\u001b[1;33m\u001b[0m\u001b[0m\n\u001b[0;32m      6\u001b[0m     _ = plt.plot(x, \n\u001b[1;32m----> 7\u001b[1;33m                  \u001b[0mbs_slope_reps\u001b[0m\u001b[1;33m[\u001b[0m\u001b[0mi\u001b[0m\u001b[1;33m]\u001b[0m\u001b[1;33m*\u001b[0m\u001b[0mx\u001b[0m \u001b[1;33m+\u001b[0m \u001b[0mbs_intercept_reps\u001b[0m\u001b[1;33m[\u001b[0m\u001b[0mi\u001b[0m\u001b[1;33m]\u001b[0m\u001b[1;33m,\u001b[0m\u001b[1;33m\u001b[0m\u001b[1;33m\u001b[0m\u001b[0m\n\u001b[0m\u001b[0;32m      8\u001b[0m                  linewidth=0.5, alpha=0.2, color='red')\n\u001b[0;32m      9\u001b[0m \u001b[1;33m\u001b[0m\u001b[0m\n",
      "\u001b[1;31mNameError\u001b[0m: name 'bs_slope_reps' is not defined"
     ]
    }
   ],
   "source": [
    "# Generate array of x-values for bootstrap lines: x\n",
    "x = np.array([0,100])\n",
    "\n",
    "# Plot the bootstrap lines\n",
    "for i in range(100):\n",
    "    _ = plt.plot(x, \n",
    "                 bs_slope_reps[i]*x + bs_intercept_reps[i],\n",
    "                 linewidth=0.5, alpha=0.2, color='red')\n",
    "\n",
    "# Plot the data\n",
    "_ = plt.plot(illiteracy,fertility,marker='.', linestyle ='none')\n",
    "\n",
    "# Label axes, set the margins, and show the plot\n",
    "_ = plt.xlabel('illiteracy')\n",
    "_ = plt.ylabel('fertility')\n",
    "plt.margins(0.02)\n",
    "plt.show()"
   ]
  },
  {
   "cell_type": "markdown",
   "metadata": {},
   "source": [
    "# Formulating and simulating a hypothesis\n",
    "\n",
    "\n",
    "### Hypothesis testing : Assessment of how reasonable the observed data are assuming a hypothesis is true\n"
   ]
  },
  {
   "cell_type": "markdown",
   "metadata": {},
   "source": [
    "# Permutation : random reordering of entries in an array"
   ]
  },
  {
   "cell_type": "code",
   "execution_count": 239,
   "metadata": {},
   "outputs": [
    {
     "data": {
      "text/html": [
       "<div>\n",
       "<style scoped>\n",
       "    .dataframe tbody tr th:only-of-type {\n",
       "        vertical-align: middle;\n",
       "    }\n",
       "\n",
       "    .dataframe tbody tr th {\n",
       "        vertical-align: top;\n",
       "    }\n",
       "\n",
       "    .dataframe thead th {\n",
       "        text-align: right;\n",
       "    }\n",
       "</style>\n",
       "<table border=\"1\" class=\"dataframe\">\n",
       "  <thead>\n",
       "    <tr style=\"text-align: right;\">\n",
       "      <th></th>\n",
       "      <th>state</th>\n",
       "      <th>county</th>\n",
       "      <th>total_votes</th>\n",
       "      <th>dem_votes</th>\n",
       "      <th>rep_votes</th>\n",
       "      <th>dem_share</th>\n",
       "    </tr>\n",
       "  </thead>\n",
       "  <tbody>\n",
       "    <tr>\n",
       "      <th>0</th>\n",
       "      <td>PA</td>\n",
       "      <td>Erie County</td>\n",
       "      <td>127691</td>\n",
       "      <td>75775</td>\n",
       "      <td>50351</td>\n",
       "      <td>60.08</td>\n",
       "    </tr>\n",
       "    <tr>\n",
       "      <th>1</th>\n",
       "      <td>PA</td>\n",
       "      <td>Bradford County</td>\n",
       "      <td>25787</td>\n",
       "      <td>10306</td>\n",
       "      <td>15057</td>\n",
       "      <td>40.64</td>\n",
       "    </tr>\n",
       "    <tr>\n",
       "      <th>2</th>\n",
       "      <td>PA</td>\n",
       "      <td>Tioga County</td>\n",
       "      <td>17984</td>\n",
       "      <td>6390</td>\n",
       "      <td>11326</td>\n",
       "      <td>36.07</td>\n",
       "    </tr>\n",
       "    <tr>\n",
       "      <th>3</th>\n",
       "      <td>PA</td>\n",
       "      <td>McKean County</td>\n",
       "      <td>15947</td>\n",
       "      <td>6465</td>\n",
       "      <td>9224</td>\n",
       "      <td>41.21</td>\n",
       "    </tr>\n",
       "    <tr>\n",
       "      <th>4</th>\n",
       "      <td>PA</td>\n",
       "      <td>Potter County</td>\n",
       "      <td>7507</td>\n",
       "      <td>2300</td>\n",
       "      <td>5109</td>\n",
       "      <td>31.04</td>\n",
       "    </tr>\n",
       "  </tbody>\n",
       "</table>\n",
       "</div>"
      ],
      "text/plain": [
       "  state           county  total_votes  dem_votes  rep_votes  dem_share\n",
       "0    PA      Erie County       127691      75775      50351      60.08\n",
       "1    PA  Bradford County        25787      10306      15057      40.64\n",
       "2    PA     Tioga County        17984       6390      11326      36.07\n",
       "3    PA    McKean County        15947       6465       9224      41.21\n",
       "4    PA    Potter County         7507       2300       5109      31.04"
      ]
     },
     "execution_count": 239,
     "metadata": {},
     "output_type": "execute_result"
    }
   ],
   "source": [
    "### Generating a permution sample\n",
    "import numpy as np\n",
    "df.head()\n"
   ]
  },
  {
   "cell_type": "code",
   "execution_count": 245,
   "metadata": {},
   "outputs": [
    {
     "data": {
      "text/plain": [
       "0    60.08\n",
       "1    40.64\n",
       "2    36.07\n",
       "3    41.21\n",
       "4    31.04\n",
       "Name: dem_share, dtype: float64"
      ]
     },
     "execution_count": 245,
     "metadata": {},
     "output_type": "execute_result"
    }
   ],
   "source": [
    "df[df['state']=='PA']['dem_share'].head()\n"
   ]
  },
  {
   "cell_type": "code",
   "execution_count": 248,
   "metadata": {},
   "outputs": [],
   "source": [
    "dem_share_PA= np.array(df[df['state']=='PA']['dem_share'])\n",
    "dem_share_OH =np.array(df[df['state']=='OH']['dem_share'])\n"
   ]
  },
  {
   "cell_type": "code",
   "execution_count": 252,
   "metadata": {},
   "outputs": [
    {
     "data": {
      "text/plain": [
       "array([60.08, 40.64, 36.07, 41.21, 31.04, 43.78, 44.08, 46.85, 44.71,\n",
       "       46.15, 63.1 , 52.2 , 43.18, 40.24, 39.92, 47.87, 37.77, 40.11,\n",
       "       49.85, 48.61, 38.62, 54.25, 34.84, 47.75, 43.82, 55.97, 58.23,\n",
       "       42.97, 42.38, 36.11, 37.53, 42.65, 50.96, 47.43, 56.24, 45.6 ,\n",
       "       46.39, 35.22, 48.56, 32.97, 57.88, 36.05, 37.72, 50.36, 32.12,\n",
       "       41.55, 54.66, 57.81, 54.58, 32.88, 54.37, 40.45, 47.61, 60.49,\n",
       "       43.11, 27.32, 44.03, 33.56, 37.26, 54.64, 43.12, 25.34, 49.79,\n",
       "       83.56, 40.09, 60.81, 49.81, 56.94, 50.46, 65.99, 45.88, 42.23,\n",
       "       45.26, 57.01, 53.61, 59.1 , 61.48, 43.43, 44.69, 54.59, 48.36,\n",
       "       45.89, 48.62, 43.92, 38.23, 28.79, 63.57, 38.07, 40.18, 43.05,\n",
       "       41.56, 42.49, 36.06, 52.76, 46.07, 39.43, 39.26, 47.47, 27.92,\n",
       "       38.01, 45.45, 29.07, 28.94, 51.28, 50.1 , 39.84, 36.43, 35.71,\n",
       "       31.47, 47.01, 40.1 , 48.76, 31.56, 39.86, 45.31, 35.47, 51.38,\n",
       "       46.33, 48.73, 41.77, 41.32, 48.46, 53.14, 34.01, 54.74, 40.67,\n",
       "       38.96, 46.29, 38.25,  6.8 , 31.75, 46.33, 44.9 , 33.57, 38.1 ,\n",
       "       39.67, 40.47, 49.44, 37.62, 36.71, 46.73, 42.2 , 53.16, 52.4 ,\n",
       "       58.36, 68.02, 38.53, 34.58, 69.64, 60.5 , 53.53, 36.54, 49.58,\n",
       "       41.97, 38.11])"
      ]
     },
     "execution_count": 252,
     "metadata": {},
     "output_type": "execute_result"
    }
   ],
   "source": [
    "dem_share_both = np.concatenate((dem_share_PA, dem_share_OH))\n",
    "dem_share_both"
   ]
  },
  {
   "cell_type": "code",
   "execution_count": 253,
   "metadata": {},
   "outputs": [
    {
     "data": {
      "text/plain": [
       "array([40.67, 51.38, 63.57, 36.43, 38.01, 46.33, 33.56, 45.26, 47.01,\n",
       "       38.11, 50.46, 60.49, 44.03, 38.25, 39.84, 45.45, 46.73, 31.47,\n",
       "       46.39, 43.18, 51.28, 45.31, 41.97, 41.21, 37.77, 56.94, 49.58,\n",
       "       52.2 , 31.56, 48.36, 46.85, 36.54, 31.75, 40.11, 45.6 , 29.07,\n",
       "       36.71, 35.22, 53.53, 40.47, 49.44, 57.88, 36.06, 40.45, 60.08,\n",
       "       39.26, 49.81, 27.92, 37.26, 44.9 , 48.46, 63.1 , 54.37, 60.81,\n",
       "       60.5 , 83.56, 54.25, 43.43, 42.97, 34.01, 53.14, 57.01, 58.36,\n",
       "       56.24, 40.18, 65.99, 38.23, 32.12, 52.76, 42.38, 38.07, 37.62,\n",
       "       36.05, 68.02, 41.56, 35.47,  6.8 , 40.24, 42.65, 31.04, 34.58,\n",
       "       33.57, 47.87, 50.96, 61.48, 39.92, 48.76, 39.67, 46.15, 39.86,\n",
       "       69.64, 46.07, 41.32, 37.53, 40.1 , 25.34, 57.81, 38.1 , 38.62,\n",
       "       58.23, 45.88, 42.2 , 44.08, 59.1 , 44.69, 48.61, 42.49, 39.43,\n",
       "       36.07, 41.55, 50.1 , 35.71, 43.11, 54.58, 28.94, 47.43, 46.33,\n",
       "       32.88, 53.61, 47.47, 40.64, 36.11, 45.89, 54.59, 43.12, 38.53,\n",
       "       41.77, 55.97, 48.56, 48.73, 43.05, 32.97, 46.29, 49.85, 38.96,\n",
       "       28.79, 43.82, 54.64, 49.79, 52.4 , 40.09, 27.32, 44.71, 47.61,\n",
       "       34.84, 43.78, 47.75, 37.72, 54.74, 42.23, 50.36, 53.16, 43.92,\n",
       "       48.62, 54.66])"
      ]
     },
     "execution_count": 253,
     "metadata": {},
     "output_type": "execute_result"
    }
   ],
   "source": [
    "dem_share_perm = np.random.permutation(dem_share_both)\n",
    "dem_share_perm"
   ]
  },
  {
   "cell_type": "code",
   "execution_count": 255,
   "metadata": {},
   "outputs": [
    {
     "data": {
      "text/plain": [
       "array([32.12, 52.76, 42.38, 38.07, 37.62, 36.05, 68.02, 41.56, 35.47,\n",
       "        6.8 , 40.24, 42.65, 31.04, 34.58, 33.57, 47.87, 50.96, 61.48,\n",
       "       39.92, 48.76, 39.67, 46.15, 39.86, 69.64, 46.07, 41.32, 37.53,\n",
       "       40.1 , 25.34, 57.81, 38.1 , 38.62, 58.23, 45.88, 42.2 , 44.08,\n",
       "       59.1 , 44.69, 48.61, 42.49, 39.43, 36.07, 41.55, 50.1 , 35.71,\n",
       "       43.11, 54.58, 28.94, 47.43, 46.33, 32.88, 53.61, 47.47, 40.64,\n",
       "       36.11, 45.89, 54.59, 43.12, 38.53, 41.77, 55.97, 48.56, 48.73,\n",
       "       43.05, 32.97, 46.29, 49.85, 38.96, 28.79, 43.82, 54.64, 49.79,\n",
       "       52.4 , 40.09, 27.32, 44.71, 47.61, 34.84, 43.78, 47.75, 37.72,\n",
       "       54.74, 42.23, 50.36, 53.16, 43.92, 48.62, 54.66])"
      ]
     },
     "execution_count": 255,
     "metadata": {},
     "output_type": "execute_result"
    }
   ],
   "source": [
    "## then)\n",
    "perm_sample_PA = dem_share_perm[:len(dem_share_PA)]\n",
    "perm_sample_OH = dem_share_perm[len(dem_share_PA):]\n",
    "perm_sample_OH"
   ]
  },
  {
   "cell_type": "code",
   "execution_count": 256,
   "metadata": {},
   "outputs": [],
   "source": [
    "dem_share_both = np.concatenate((dem_share_PA, dem_share_OH))\n",
    "\n",
    "dem_share_perm = np.random.permutation(dem_share_both)\n",
    "\n",
    "perm_sample_PA = dem_share_perm[:len(dem_share_PA)]\n",
    "perm_sample_OH = dem_share_perm[len(dem_share_PA):]"
   ]
  },
  {
   "cell_type": "markdown",
   "metadata": {},
   "source": [
    "# Generating a permutation sample"
   ]
  },
  {
   "cell_type": "code",
   "execution_count": 261,
   "metadata": {},
   "outputs": [],
   "source": [
    "def permutation_sample(data1, data2):\n",
    "    \"\"\"Generate a permutation sample from two data sets.\"\"\"\n",
    "\n",
    "    # Concatenate the data sets: data\n",
    "    data = np.concatenate((data1,data2))\n",
    "\n",
    "    # Permute the concatenated array: permuted_data\n",
    "    permuted_data = np.random.permutation(data)\n",
    "\n",
    "    # Split the permuted array into two: perm_sample_1, perm_sample_2\n",
    "    perm_sample_1 = permuted_data[:len(data1)]\n",
    "    perm_sample_2 = permuted_data[len(data1):]\n",
    "\n",
    "    return perm_sample_1, perm_sample_2"
   ]
  },
  {
   "cell_type": "markdown",
   "metadata": {},
   "source": [
    "# Visualizing permutation sampling"
   ]
  },
  {
   "cell_type": "code",
   "execution_count": 258,
   "metadata": {},
   "outputs": [],
   "source": [
    "rain_june = np.array([ 66.2,  39.7,  76.4,  26.5,  11.2,  61.8,   6.1,  48.4,  89.2,\n",
    "       104. ,  34. ,  60.6,  57.1,  79.1,  90.9,  32.3,  63.8,  78.2,\n",
    "        27.5,  43.4,  30.1,  17.3,  77.5,  44.9,  92.2,  39.6,  79.4,\n",
    "        66.1,  53.5,  98.5,  20.8,  55.5,  39.6,  56. ,  65.1,  14.8,\n",
    "        13.2,  88.1,   8.4,  32.1,  19.6,  40.4,   2.2,  77.5, 105.4,\n",
    "        77.2,  38. ,  27.1, 111.8,  17.2,  26.7,  23.3,  77.2,  87.2,\n",
    "        27.7,  50.6,  60.3,  15.1,   6. ,  29.4,  39.3,  56.3,  80.4,\n",
    "        85.3,  68.4,  72.5,  13.3,  28.4,  14.7,  37.4,  49.5,  57.2,\n",
    "        85.9,  82.1,  31.8, 126.6,  30.7,  41.4,  33.9,  13.5,  99.1,\n",
    "        70.2,  91.8,  61.3,  13.7,  54.9,  62.5,  24.2,  69.4,  83.1,\n",
    "        44. ,  48.5,  11.9,  16.6,  66.4,  90. ,  34.9, 132.8,  33.4,\n",
    "       225. ,   7.6,  40.9,  76.5,  48. , 140. ,  55.9,  54.1,  46.4,\n",
    "        68.6,  52.2, 108.3,  14.6,  11.3,  29.8, 130.9, 152.4,  61. ,\n",
    "        46.6,  43.9,  30.9, 111.1,  68.5,  42.2,   9.8, 285.6,  56.7,\n",
    "       168.2,  41.2,  47.8, 166.6,  37.8,  45.4,  43.2])"
   ]
  },
  {
   "cell_type": "code",
   "execution_count": 259,
   "metadata": {},
   "outputs": [],
   "source": [
    "rain_november= np.array([ 83.6,  30.9,  62.2,  37. ,  41. , 160.2,  18.2, 122.4,  71.3,\n",
    "        44.2,  49.1,  37.6, 114.5,  28.8,  82.5,  71.9,  50.7,  67.7,\n",
    "       112. ,  63.6,  42.8,  57.2,  99.1,  86.4,  84.4,  38.1,  17.7,\n",
    "       102.2, 101.3,  58. ,  82. , 101.4,  81.4, 100.1,  54.6,  39.6,\n",
    "        57.5,  29.2,  48.8,  37.3, 115.4,  55.6,  62. ,  95. ,  84.2,\n",
    "       118.1, 153.2,  83.4, 104.7,  59. ,  46.4,  50. , 147.6,  76.8,\n",
    "        59.9, 101.8, 136.6, 173. ,  92.5,  37. ,  59.8, 142.1,   9.9,\n",
    "       158.2,  72.6,  28. , 112.9, 119.3, 199.2,  50.7,  44. , 170.7,\n",
    "        67.2,  21.4,  61.3,  15.6, 106. , 116.2,  42.3,  38.5, 132.5,\n",
    "        40.8, 147.5,  93.9,  71.4,  87.3, 163.7, 141.4,  62.6,  84.9,\n",
    "        28.8, 121.1,  28.6,  32.4, 112. ,  50. ,  96.9,  81.8,  70.4,\n",
    "       117.5,  41.2, 124.9,  78.2,  93. ,  53.5,  50.5,  42.6,  47.9,\n",
    "        73.1, 129.1,  56.9, 103.3,  60.5, 134.3,  93.1,  49.5,  48.2,\n",
    "       167.9,  27. , 111.1,  55.4,  36.2,  57.4,  66.8,  58.3,  60. ,\n",
    "       161.6, 112.7,  37.4, 110.6,  56.6,  95.8, 126.8])"
   ]
  },
  {
   "cell_type": "code",
   "execution_count": 264,
   "metadata": {},
   "outputs": [
    {
     "data": {
      "image/png": "[encoded data removed]",
      "text/plain": [
       "<Figure size 432x288 with 1 Axes>"
      ]
     },
     "metadata": {
      "needs_background": "light"
     },
     "output_type": "display_data"
    }
   ],
   "source": [
    "for _ in range(50):\n",
    "    # Generate permutation samples\n",
    "    perm_sample_1, perm_sample_2 = permutation_sample(rain_june,rain_november)\n",
    "    \n",
    "    # Compute ECDFs\n",
    "    x_1, y_1 = ecdf(perm_sample_1)\n",
    "    x_2, y_2 = ecdf(perm_sample_2)\n",
    "    \n",
    "    # Plot ECDFs of permutation sample\n",
    "    _ = plt.plot(x_1, y_1, marker='.', linestyle='none',\n",
    "                 color='red', alpha=0.02)\n",
    "    _ = plt.plot(x_2, y_2, marker='.', linestyle='none',\n",
    "                 color='blue', alpha=0.02)\n",
    "\n",
    "    \n",
    "    # Create and plot ECDFs from original data\n",
    "x_1, y_1 = ecdf(rain_june)\n",
    "x_2, y_2 = ecdf(rain_november)\n",
    "_ = plt.plot(x_1, y_1, marker='*', linestyle='none', color='red')\n",
    "_ = plt.plot(x_2, y_2, marker='.', linestyle='none', color='blue')\n",
    "\n",
    "# Label axes, set margin, and show plot\n",
    "plt.margins(0.02)\n",
    "_ = plt.xlabel('monthly rainfall (mm)')\n",
    "_ = plt.ylabel('ECDF')\n",
    "plt.show()\n",
    "    \n",
    "    \n",
    "    \n",
    "    \n",
    "    \n",
    "    "
   ]
  },
  {
   "cell_type": "markdown",
   "metadata": {},
   "source": [
    "# Test statistics and p-values\n"
   ]
  },
  {
   "cell_type": "code",
   "execution_count": 265,
   "metadata": {},
   "outputs": [],
   "source": [
    "# a SINGLE NUMBER that can be computed from observed data and fro  data you simulate under the null hypothesis"
   ]
  },
  {
   "cell_type": "code",
   "execution_count": 266,
   "metadata": {},
   "outputs": [
    {
     "data": {
      "text/plain": [
       "0.8375101763907793"
      ]
     },
     "execution_count": 266,
     "metadata": {},
     "output_type": "execute_result"
    }
   ],
   "source": [
    "# Permutation replicate\n",
    "\n",
    "np.mean(perm_sample_PA)-np.mean(perm_sample_OH)"
   ]
  },
  {
   "cell_type": "code",
   "execution_count": 267,
   "metadata": {},
   "outputs": [
    {
     "data": {
      "text/plain": [
       "1.1582360922659447"
      ]
     },
     "execution_count": 267,
     "metadata": {},
     "output_type": "execute_result"
    }
   ],
   "source": [
    "np.mean(dem_share_PA)-np.mean(dem_share_OH)"
   ]
  },
  {
   "cell_type": "markdown",
   "metadata": {},
   "source": [
    "# Generating permutation replicates"
   ]
  },
  {
   "cell_type": "code",
   "execution_count": null,
   "metadata": {},
   "outputs": [],
   "source": [
    "def draw_perm_reps(data_1, data_2, func, size=1):\n",
    "    \"\"\"Generate multiple permutation replicates.\"\"\"\n",
    "\n",
    "    # Initialize array of replicates: perm_replicates\n",
    "    perm_replicates = np.empty(size)\n",
    "\n",
    "    for i in range(size):\n",
    "        # Generate permutation sample\n",
    "        perm_sample_1, perm_sample_2 = permutation_sample(data_1,data_2)\n",
    "\n",
    "        # Compute the test statistic\n",
    "        perm_replicates[i] = func(perm_sample_1,perm_sample_2)\n",
    "\n",
    "    return perm_replicates"
   ]
  },
  {
   "cell_type": "markdown",
   "metadata": {},
   "source": [
    "# A one-sample bootstrap hypothesis test"
   ]
  },
  {
   "cell_type": "code",
   "execution_count": 268,
   "metadata": {},
   "outputs": [],
   "source": [
    "# Another juvenile frog was studied, Frog C, and you want to see if Frog B and Frog C have similar impact forces. \n",
    "# Unfortunately, you do not have Frog C's impact forces available, but you know they have a mean of 0.55 N. \n",
    "\n",
    "force_b = np.array([0.172, 0.142, 0.037, 0.453, 0.355, 0.022, 0.502, 0.273, 0.72 ,\n",
    "       0.582, 0.198, 0.198, 0.597, 0.516, 0.815, 0.402, 0.605, 0.711,\n",
    "       0.614, 0.468])"
   ]
  },
  {
   "cell_type": "code",
   "execution_count": 270,
   "metadata": {},
   "outputs": [
    {
     "data": {
      "text/plain": [
       "array([0.3029, 0.2729, 0.1679, 0.5839, 0.4859, 0.1529, 0.6329, 0.4039,\n",
       "       0.8509, 0.7129, 0.3289, 0.3289, 0.7279, 0.6469, 0.9459, 0.5329,\n",
       "       0.7359, 0.8419, 0.7449, 0.5989])"
      ]
     },
     "execution_count": 270,
     "metadata": {},
     "output_type": "execute_result"
    }
   ],
   "source": [
    "# Make an array of translated impact forces: translated_force_b\n",
    "translated_force_b = force_b-np.mean(force_b)+0.55\n",
    "translated_force_b"
   ]
  },
  {
   "cell_type": "code",
   "execution_count": 273,
   "metadata": {},
   "outputs": [
    {
     "data": {
      "text/plain": [
       "array([0.54935, 0.51045, 0.5274 , ..., 0.47975, 0.5215 , 0.6094 ])"
      ]
     },
     "execution_count": 273,
     "metadata": {},
     "output_type": "execute_result"
    }
   ],
   "source": [
    "# Take bootstrap replicates of Frog B's translated impact forces: bs_replicates\n",
    "bs_replicates = draw_bs_reps(translated_force_b,np.mean, 10000)\n",
    "bs_replicates"
   ]
  },
  {
   "cell_type": "code",
   "execution_count": 274,
   "metadata": {},
   "outputs": [
    {
     "name": "stdout",
     "output_type": "stream",
     "text": [
      "p =  0.0043\n"
     ]
    }
   ],
   "source": [
    "# Compute fraction of replicates that are less than the observed Frog B force: p\n",
    "p = np.sum(bs_replicates <= np.mean(force_b)) / 10000\n",
    "\n",
    "# Print the p-value\n",
    "print('p = ', p)\n"
   ]
  },
  {
   "cell_type": "markdown",
   "metadata": {},
   "source": [
    "# A two-sample bootstrap hypothesis test for difference of means"
   ]
  },
  {
   "cell_type": "code",
   "execution_count": 275,
   "metadata": {},
   "outputs": [],
   "source": [
    "forces_concat =np.array([1.612, 0.605, 0.327, 0.946, 0.541, 1.539, 0.529, 0.628, 1.453,\n",
    "       0.297, 0.703, 0.269, 0.751, 0.245, 1.182, 0.515, 0.435, 0.383,\n",
    "       0.457, 0.73 , 0.172, 0.142, 0.037, 0.453, 0.355, 0.022, 0.502,\n",
    "       0.273, 0.72 , 0.582, 0.198, 0.198, 0.597, 0.516, 0.815, 0.402,\n",
    "       0.605, 0.711, 0.614, 0.468])\n"
   ]
  },
  {
   "cell_type": "code",
   "execution_count": null,
   "metadata": {},
   "outputs": [],
   "source": [
    "# We now want to test the hypothesis that Frog A and Frog B have the same mean impact force, "
   ]
  },
  {
   "cell_type": "code",
   "execution_count": 282,
   "metadata": {},
   "outputs": [],
   "source": [
    "force_a = np.array([1.612, 0.605, 0.327, 0.946, 0.541, 1.539, 0.529, 0.628, 1.453,\n",
    "       0.297, 0.703, 0.269, 0.751, 0.245, 1.182, 0.515, 0.435, 0.383,\n",
    "       0.457, 0.73 ])"
   ]
  },
  {
   "cell_type": "code",
   "execution_count": 280,
   "metadata": {},
   "outputs": [],
   "source": [
    "empirical_diff_means = 0.28825000000000006"
   ]
  },
  {
   "cell_type": "code",
   "execution_count": 284,
   "metadata": {},
   "outputs": [
    {
     "name": "stdout",
     "output_type": "stream",
     "text": [
      "p-value = 0.0045\n"
     ]
    }
   ],
   "source": [
    "# ##### two sample bootstrap hypothesis test for diff fo means ##### #         \n",
    "# Compute mean of all forces: mean_force\n",
    "mean_force = np.mean(forces_concat)\n",
    "\n",
    "# Generate shifted arrays\n",
    "force_a_shifted = force_a - np.mean(force_a) + mean_force\n",
    "force_b_shifted = force_b - np.mean(force_b) + mean_force \n",
    "\n",
    "# Compute 10,000 bootstrap replicates from shifted arrays\n",
    "bs_replicates_a = draw_bs_reps(force_a_shifted, np.mean, 10000)\n",
    "bs_replicates_b = draw_bs_reps(force_b_shifted, np.mean, 10000)\n",
    "\n",
    "# Get replicates of difference of means: bs_replicates\n",
    "bs_replicates = bs_replicates_a - bs_replicates_b\n",
    "\n",
    "# Compute and print p-value: p\n",
    "p = np.sum(bs_replicates >= empirical_diff_means) / 10000\n",
    "print('p-value =', p)"
   ]
  },
  {
   "cell_type": "code",
   "execution_count": 287,
   "metadata": {},
   "outputs": [
    {
     "data": {
      "text/plain": [
       "-0.28825000000000006"
      ]
     },
     "execution_count": 287,
     "metadata": {},
     "output_type": "execute_result"
    }
   ],
   "source": [
    "np.mean(force_b) - np.mean(force_a)"
   ]
  },
  {
   "cell_type": "code",
   "execution_count": null,
   "metadata": {},
   "outputs": [],
   "source": []
  }
 ],
 "metadata": {
  "kernelspec": {
   "display_name": "Python 3",
   "language": "python",
   "name": "python3"
  },
  "language_info": {
   "codemirror_mode": {
    "name": "ipython",
    "version": 3
   },
   "file_extension": ".py",
   "mimetype": "text/x-python",
   "name": "python",
   "nbconvert_exporter": "python",
   "pygments_lexer": "ipython3",
   "version": "3.6.8"
  }
 },
 "nbformat": 4,
 "nbformat_minor": 2
}

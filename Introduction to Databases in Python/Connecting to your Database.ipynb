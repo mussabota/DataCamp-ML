{
 "cells": [
  {
   "cell_type": "code",
   "execution_count": null,
   "metadata": {},
   "outputs": [],
   "source": [
    "### Meet SQLAlchemy\n",
    "# - 2 main pieces\n",
    "  #1) Core(Relational Model focused)\n",
    "  #2) ORM (User Data Model focused)"
   ]
  },
  {
   "cell_type": "code",
   "execution_count": null,
   "metadata": {},
   "outputs": [],
   "source": [
    "from sqlalchemy import create_engine\n",
    "\n",
    "engine = create_engine()\n",
    "                       \n",
    "connection = engine.connect()"
   ]
  },
  {
   "cell_type": "code",
   "execution_count": null,
   "metadata": {},
   "outputs": [],
   "source": [
    "print(engine.table_names())"
   ]
  },
  {
   "cell_type": "code",
   "execution_count": null,
   "metadata": {},
   "outputs": [],
   "source": [
    "#### Reflectin\n",
    "from sqlalchemy import MetaData, Table\n",
    "\n",
    "metadata = MetaData()\n",
    "\n",
    "census = Table('census', metadata, autoload = True, autoload_with = engine)\n",
    "\n",
    "print(repr(census))"
   ]
  },
  {
   "cell_type": "code",
   "execution_count": null,
   "metadata": {},
   "outputs": [],
   "source": [
    "#####Introduction to SQL\n",
    "\n",
    "from sqlalchemy import create_engine\n",
    "\n",
    "engine = create_engine()\n",
    "                       \n",
    "connection = engine.connect('sqlite:///lol.sqlite')\n",
    "\n",
    "stmt = 'SELECT * FROM people'\n",
    "\n",
    "result_proxy = connection.execute(stmt)\n",
    "\n",
    "results = result_proxy.fetchall()\n",
    "\n",
    "first_row = results[0]\n",
    "print(first_row)\n",
    "\n",
    "print(first_row.keys\n",
    "print(first_row.state"
   ]
  },
  {
   "cell_type": "code",
   "execution_count": null,
   "metadata": {},
   "outputs": [],
   "source": [
    "### SQLAlchemy quering\n",
    "from sqlalchemy import MetaData, Table\n",
    "\n",
    "metadata = MetaData()\n",
    "\n",
    "census = Table('census', metadata, autoload = True, autoload_with = engine)\n",
    "stmt = select([census])\n",
    "results = connection.execute(stmt).fetchall()"
   ]
  }
 ],
 "metadata": {
  "kernelspec": {
   "display_name": "Python 2",
   "language": "python",
   "name": "python2"
  },
  "language_info": {
   "codemirror_mode": {
    "name": "ipython",
    "version": 2
   },
   "file_extension": ".py",
   "mimetype": "text/x-python",
   "name": "python",
   "nbconvert_exporter": "python",
   "pygments_lexer": "ipython2",
   "version": "2.7.15"
  }
 },
 "nbformat": 4,
 "nbformat_minor": 2
}

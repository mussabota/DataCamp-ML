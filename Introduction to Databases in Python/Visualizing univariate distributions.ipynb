{
 "cells": [
  {
   "cell_type": "code",
   "execution_count": null,
   "metadata": {},
   "outputs": [],
   "source": [
    "## univariate = ' one variable'\n",
    "\n",
    "# 1) Strip plot\n",
    "\n",
    "sns.stripplot(y = 'tip', data = tips)\n",
    "plt.ylabel('tip($)')\n",
    "plt.show()\n",
    "\n",
    "sns.stripplot(x='day', y = 'tip', data = tips)\n"
   ]
  },
  {
   "cell_type": "code",
   "execution_count": null,
   "metadata": {},
   "outputs": [],
   "source": [
    "## Spreading out strip plots \n",
    "sns.stripplot(x='day', y = 'tip', data = tips, size =4, jitter=True)\n",
    "\n",
    "plt.ylabel('tip($)')\n",
    "plt.show()"
   ]
  },
  {
   "cell_type": "code",
   "execution_count": null,
   "metadata": {},
   "outputs": [],
   "source": [
    "# 2) Swarm plot\n",
    "sns.swarmplot(y = 'tip', data = tips, hue='sex', orient = 'h')\n",
    "\n",
    "plt.ylabel('tip($)')\n",
    "plt.show()"
   ]
  },
  {
   "cell_type": "code",
   "execution_count": null,
   "metadata": {},
   "outputs": [],
   "source": [
    "# 3) Violin plot\n",
    "sns.violinplot(y = 'tip', data = tips, hue='sex', orient = 'h')\n",
    "\n",
    "plt.ylabel('tip($)')\n",
    "plt.show()\n"
   ]
  },
  {
   "cell_type": "code",
   "execution_count": null,
   "metadata": {},
   "outputs": [],
   "source": [
    "## combining plot\n",
    "sns.violinplot(y = 'tip', data = tips, inner = None, color = 'lightgray')\n",
    "\n",
    "\n",
    "sns.stripplot(x='day', y = 'tip', data = tips, size =4, jitter=True)\n",
    "\n",
    "plt.ylabel('tip($)')\n",
    "plt.show()\n"
   ]
  },
  {
   "cell_type": "code",
   "execution_count": null,
   "metadata": {},
   "outputs": [],
   "source": [
    "## Visualisation of multivariate data\n",
    "\n",
    "sns.heatmap(covariance)"
   ]
  },
  {
   "cell_type": "code",
   "execution_count": null,
   "metadata": {},
   "outputs": [],
   "source": [
    "\n",
    "## Visualizing time series\n",
    "\n",
    "jan = temperature['2001-01']\n",
    "\n",
    "dates =jan.index[::96]\n",
    "\n",
    "labels =dates.strftime('%b %d')\n"
   ]
  },
  {
   "cell_type": "code",
   "execution_count": null,
   "metadata": {},
   "outputs": [],
   "source": [
    "## Histogram equalization in images\n",
    "\n",
    "original = plt.imread('moon.jpg')\n",
    "\n",
    "pexels = original.flatten()\n",
    "\n",
    "plt.hist(pixels, bins=256, range = (0,256), normed = True, color='blue', alpha=0.3)\n",
    "\n",
    "plt.show()\n",
    "\n",
    "mibval,maxval = original.min(), original.max()"
   ]
  }
 ],
 "metadata": {
  "kernelspec": {
   "display_name": "Python 3",
   "language": "python",
   "name": "python3"
  },
  "language_info": {
   "codemirror_mode": {
    "name": "ipython",
    "version": 3
   },
   "file_extension": ".py",
   "mimetype": "text/x-python",
   "name": "python",
   "nbconvert_exporter": "python",
   "pygments_lexer": "ipython3",
   "version": "3.6.8"
  }
 },
 "nbformat": 4,
 "nbformat_minor": 2
}

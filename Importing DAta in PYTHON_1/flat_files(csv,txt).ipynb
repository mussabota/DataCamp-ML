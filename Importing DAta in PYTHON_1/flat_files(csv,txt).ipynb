{
 "cells": [
  {
   "cell_type": "code",
   "execution_count": 13,
   "metadata": {},
   "outputs": [
    {
     "name": "stdout",
     "output_type": "stream",
     "text": [
      "MY names is Bota\n",
      "HI BOTA\n"
     ]
    }
   ],
   "source": [
    "import pandas as pd\n",
    "filename = 'hi.txt'\n",
    "file = open (filename, mode ='r')\n",
    "text = file.read()\n",
    "file.close()\n",
    "\n",
    "print(text)\n"
   ]
  },
  {
   "cell_type": "code",
   "execution_count": 16,
   "metadata": {},
   "outputs": [
    {
     "name": "stdout",
     "output_type": "stream",
     "text": [
      "MY names is Bota\n",
      "\n"
     ]
    }
   ],
   "source": [
    "with open('hi.txt') as file:\n",
    "    print(file.readline())\n",
    " "
   ]
  },
  {
   "cell_type": "code",
   "execution_count": null,
   "metadata": {},
   "outputs": [],
   "source": [
    "#####  CSV - comma seperated values\n",
    "#####  TXT - text file\n",
    "##### commas, tab - Delimiters\n"
   ]
  },
  {
   "cell_type": "code",
   "execution_count": 20,
   "metadata": {},
   "outputs": [
    {
     "data": {
      "text/plain": [
       "array([[0., 0.],\n",
       "       [1., 0.],\n",
       "       [4., 0.],\n",
       "       [0., 0.],\n",
       "       [0., 0.],\n",
       "       [7., 0.],\n",
       "       [3., 0.],\n",
       "       [5., 0.],\n",
       "       [3., 0.],\n",
       "       [8., 0.],\n",
       "       [9., 0.],\n",
       "       [1., 0.],\n",
       "       [3., 0.],\n",
       "       [3., 0.],\n",
       "       [1., 0.],\n",
       "       [2., 0.],\n",
       "       [0., 0.],\n",
       "       [7., 0.],\n",
       "       [5., 0.],\n",
       "       [8., 0.],\n",
       "       [6., 0.],\n",
       "       [2., 0.],\n",
       "       [0., 0.],\n",
       "       [2., 0.],\n",
       "       [3., 0.],\n",
       "       [6., 0.],\n",
       "       [9., 0.],\n",
       "       [9., 0.],\n",
       "       [7., 0.],\n",
       "       [8., 0.],\n",
       "       [9., 0.],\n",
       "       [4., 0.],\n",
       "       [9., 0.],\n",
       "       [2., 0.],\n",
       "       [1., 0.],\n",
       "       [3., 0.],\n",
       "       [1., 0.],\n",
       "       [1., 0.],\n",
       "       [4., 0.],\n",
       "       [9., 0.],\n",
       "       [1., 0.],\n",
       "       [4., 0.],\n",
       "       [4., 0.],\n",
       "       [2., 0.],\n",
       "       [6., 0.],\n",
       "       [3., 0.],\n",
       "       [7., 0.],\n",
       "       [7., 0.],\n",
       "       [4., 0.],\n",
       "       [7., 0.],\n",
       "       [5., 0.],\n",
       "       [1., 0.],\n",
       "       [9., 0.],\n",
       "       [0., 0.],\n",
       "       [2., 0.],\n",
       "       [2., 0.],\n",
       "       [3., 0.],\n",
       "       [9., 0.],\n",
       "       [1., 0.],\n",
       "       [1., 0.],\n",
       "       [1., 0.],\n",
       "       [5., 0.],\n",
       "       [0., 0.],\n",
       "       [6., 0.],\n",
       "       [3., 0.],\n",
       "       [4., 0.],\n",
       "       [8., 0.],\n",
       "       [1., 0.],\n",
       "       [0., 0.],\n",
       "       [3., 0.],\n",
       "       [9., 0.],\n",
       "       [6., 0.],\n",
       "       [2., 0.],\n",
       "       [6., 0.],\n",
       "       [4., 0.],\n",
       "       [7., 0.],\n",
       "       [1., 0.],\n",
       "       [4., 0.],\n",
       "       [1., 0.],\n",
       "       [5., 0.],\n",
       "       [4., 0.],\n",
       "       [8., 0.],\n",
       "       [9., 0.],\n",
       "       [2., 0.],\n",
       "       [9., 0.],\n",
       "       [9., 0.],\n",
       "       [8., 0.],\n",
       "       [9., 0.],\n",
       "       [6., 0.],\n",
       "       [3., 0.],\n",
       "       [6., 0.],\n",
       "       [4., 0.],\n",
       "       [6., 0.],\n",
       "       [2., 0.],\n",
       "       [9., 0.],\n",
       "       [1., 0.],\n",
       "       [2., 0.],\n",
       "       [0., 0.],\n",
       "       [5., 0.]])"
      ]
     },
     "execution_count": 20,
     "metadata": {},
     "output_type": "execute_result"
    }
   ],
   "source": [
    "### Importing flat files using NumPy\n",
    "#  NumPy arrays : standard for storing numerical data\n",
    "#  Essential for other packages as :::: scikit-learn\n",
    "\n",
    "#  1) loadtxt\n",
    "#  2) genfromtxt\n",
    "\n",
    "import numpy as np\n",
    "filename = 'MNIST.txt'\n",
    "data= np.loadtxt(filename, delimiter = ',', skiprows =1, usecols = [0,2])\n",
    "\n",
    "\n",
    "\n",
    "data\n"
   ]
  },
  {
   "cell_type": "code",
   "execution_count": null,
   "metadata": {},
   "outputs": [],
   "source": [
    "### skip first row  === ( skiprow=1)\n",
    "### 2 and 3 row === (usecols-[0,2])\n"
   ]
  },
  {
   "cell_type": "code",
   "execution_count": null,
   "metadata": {},
   "outputs": [],
   "source": [
    "data = np.loadtxt(filename, delimiter = ',', dtype=str)"
   ]
  },
  {
   "cell_type": "code",
   "execution_count": 22,
   "metadata": {},
   "outputs": [
    {
     "name": "stderr",
     "output_type": "stream",
     "text": [
      "C:\\Users\\Bota\\Miniconda3\\lib\\site-packages\\ipykernel_launcher.py:2: VisibleDeprecationWarning: Reading unicode strings without specifying the encoding argument is deprecated. Set the encoding, use None for the system default.\n",
      "  \n"
     ]
    }
   ],
   "source": [
    "######  Working with mixed datatypes (1)\n",
    "data = np.genfromtxt('AAPL.csv', delimiter =',', names=True, dtype=None)"
   ]
  },
  {
   "cell_type": "code",
   "execution_count": null,
   "metadata": {},
   "outputs": [],
   "source": [
    "#####  NEw same as genfrom === np.recfromcsv()\n"
   ]
  },
  {
   "cell_type": "code",
   "execution_count": null,
   "metadata": {},
   "outputs": [],
   "source": []
  }
 ],
 "metadata": {
  "kernelspec": {
   "display_name": "Python 3",
   "language": "python",
   "name": "python3"
  },
  "language_info": {
   "codemirror_mode": {
    "name": "ipython",
    "version": 3
   },
   "file_extension": ".py",
   "mimetype": "text/x-python",
   "name": "python",
   "nbconvert_exporter": "python",
   "pygments_lexer": "ipython3",
   "version": "3.6.8"
  }
 },
 "nbformat": 4,
 "nbformat_minor": 2
}
